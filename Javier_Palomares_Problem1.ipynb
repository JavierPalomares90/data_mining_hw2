{
 "cells": [
  {
   "cell_type": "markdown",
   "metadata": {},
   "source": [
    "# Problem Set 2\n",
    "## Javier Palomares\n",
    "### Problem 1: Starting in Kaggle.\n",
    "On February 27th, we are opening a Kaggle competition made for this class. In that one, you will\n",
    "be participating on your own. This is an intro to get us started, and also an excuse to work with\n",
    "regularization and regression which we have been discussing. Thus, even though this problem set\n",
    "is not due until March 11, it would be a great idea to get experience on Kaggle before we start the\n",
    "Kaggle competition on February 27th.\n",
    "\n",
    "#### Question 2   \n",
    "Follow the data preprocessing steps from https://www.kaggle.com/apapiu/house-prices-advanced-regression-techniques/regularized-linear-models. Then run a ridge regression using $\\alpha = 0.1$. Make a submission of this prediction, what is the RMSE you get?\n",
    "(Hint: remember to exponentiate np.expm1(ypred) your predictions).\n",
    "\n",
    "\n",
    "##### Preprocessing"
   ]
  },
  {
   "cell_type": "code",
   "execution_count": 1,
   "metadata": {},
   "outputs": [],
   "source": [
    "import pandas as pd\n",
    "import numpy as np\n",
    "import seaborn as sns\n",
    "import matplotlib\n",
    "\n",
    "import matplotlib.pyplot as plt\n",
    "from scipy.stats import skew\n",
    "from scipy.stats.stats import pearsonr\n",
    "\n",
    "\n",
    "%config InlineBackend.figure_format = 'png' #set 'png' here when working on notebook\n",
    "%matplotlib inline"
   ]
  },
  {
   "cell_type": "code",
   "execution_count": 2,
   "metadata": {},
   "outputs": [],
   "source": [
    "train = pd.read_csv(\"./input/train.csv\")\n",
    "test = pd.read_csv(\"./input/test.csv\")"
   ]
  },
  {
   "cell_type": "code",
   "execution_count": 4,
   "metadata": {},
   "outputs": [
    {
     "data": {
      "text/html": [
       "<div>\n",
       "<style scoped>\n",
       "    .dataframe tbody tr th:only-of-type {\n",
       "        vertical-align: middle;\n",
       "    }\n",
       "\n",
       "    .dataframe tbody tr th {\n",
       "        vertical-align: top;\n",
       "    }\n",
       "\n",
       "    .dataframe thead th {\n",
       "        text-align: right;\n",
       "    }\n",
       "</style>\n",
       "<table border=\"1\" class=\"dataframe\">\n",
       "  <thead>\n",
       "    <tr style=\"text-align: right;\">\n",
       "      <th></th>\n",
       "      <th>Id</th>\n",
       "      <th>MSSubClass</th>\n",
       "      <th>MSZoning</th>\n",
       "      <th>LotFrontage</th>\n",
       "      <th>LotArea</th>\n",
       "      <th>Street</th>\n",
       "      <th>Alley</th>\n",
       "      <th>LotShape</th>\n",
       "      <th>LandContour</th>\n",
       "      <th>Utilities</th>\n",
       "      <th>...</th>\n",
       "      <th>PoolArea</th>\n",
       "      <th>PoolQC</th>\n",
       "      <th>Fence</th>\n",
       "      <th>MiscFeature</th>\n",
       "      <th>MiscVal</th>\n",
       "      <th>MoSold</th>\n",
       "      <th>YrSold</th>\n",
       "      <th>SaleType</th>\n",
       "      <th>SaleCondition</th>\n",
       "      <th>SalePrice</th>\n",
       "    </tr>\n",
       "  </thead>\n",
       "  <tbody>\n",
       "    <tr>\n",
       "      <th>0</th>\n",
       "      <td>1</td>\n",
       "      <td>60</td>\n",
       "      <td>RL</td>\n",
       "      <td>65.0</td>\n",
       "      <td>8450</td>\n",
       "      <td>Pave</td>\n",
       "      <td>NaN</td>\n",
       "      <td>Reg</td>\n",
       "      <td>Lvl</td>\n",
       "      <td>AllPub</td>\n",
       "      <td>...</td>\n",
       "      <td>0</td>\n",
       "      <td>NaN</td>\n",
       "      <td>NaN</td>\n",
       "      <td>NaN</td>\n",
       "      <td>0</td>\n",
       "      <td>2</td>\n",
       "      <td>2008</td>\n",
       "      <td>WD</td>\n",
       "      <td>Normal</td>\n",
       "      <td>208500</td>\n",
       "    </tr>\n",
       "    <tr>\n",
       "      <th>1</th>\n",
       "      <td>2</td>\n",
       "      <td>20</td>\n",
       "      <td>RL</td>\n",
       "      <td>80.0</td>\n",
       "      <td>9600</td>\n",
       "      <td>Pave</td>\n",
       "      <td>NaN</td>\n",
       "      <td>Reg</td>\n",
       "      <td>Lvl</td>\n",
       "      <td>AllPub</td>\n",
       "      <td>...</td>\n",
       "      <td>0</td>\n",
       "      <td>NaN</td>\n",
       "      <td>NaN</td>\n",
       "      <td>NaN</td>\n",
       "      <td>0</td>\n",
       "      <td>5</td>\n",
       "      <td>2007</td>\n",
       "      <td>WD</td>\n",
       "      <td>Normal</td>\n",
       "      <td>181500</td>\n",
       "    </tr>\n",
       "    <tr>\n",
       "      <th>2</th>\n",
       "      <td>3</td>\n",
       "      <td>60</td>\n",
       "      <td>RL</td>\n",
       "      <td>68.0</td>\n",
       "      <td>11250</td>\n",
       "      <td>Pave</td>\n",
       "      <td>NaN</td>\n",
       "      <td>IR1</td>\n",
       "      <td>Lvl</td>\n",
       "      <td>AllPub</td>\n",
       "      <td>...</td>\n",
       "      <td>0</td>\n",
       "      <td>NaN</td>\n",
       "      <td>NaN</td>\n",
       "      <td>NaN</td>\n",
       "      <td>0</td>\n",
       "      <td>9</td>\n",
       "      <td>2008</td>\n",
       "      <td>WD</td>\n",
       "      <td>Normal</td>\n",
       "      <td>223500</td>\n",
       "    </tr>\n",
       "    <tr>\n",
       "      <th>3</th>\n",
       "      <td>4</td>\n",
       "      <td>70</td>\n",
       "      <td>RL</td>\n",
       "      <td>60.0</td>\n",
       "      <td>9550</td>\n",
       "      <td>Pave</td>\n",
       "      <td>NaN</td>\n",
       "      <td>IR1</td>\n",
       "      <td>Lvl</td>\n",
       "      <td>AllPub</td>\n",
       "      <td>...</td>\n",
       "      <td>0</td>\n",
       "      <td>NaN</td>\n",
       "      <td>NaN</td>\n",
       "      <td>NaN</td>\n",
       "      <td>0</td>\n",
       "      <td>2</td>\n",
       "      <td>2006</td>\n",
       "      <td>WD</td>\n",
       "      <td>Abnorml</td>\n",
       "      <td>140000</td>\n",
       "    </tr>\n",
       "    <tr>\n",
       "      <th>4</th>\n",
       "      <td>5</td>\n",
       "      <td>60</td>\n",
       "      <td>RL</td>\n",
       "      <td>84.0</td>\n",
       "      <td>14260</td>\n",
       "      <td>Pave</td>\n",
       "      <td>NaN</td>\n",
       "      <td>IR1</td>\n",
       "      <td>Lvl</td>\n",
       "      <td>AllPub</td>\n",
       "      <td>...</td>\n",
       "      <td>0</td>\n",
       "      <td>NaN</td>\n",
       "      <td>NaN</td>\n",
       "      <td>NaN</td>\n",
       "      <td>0</td>\n",
       "      <td>12</td>\n",
       "      <td>2008</td>\n",
       "      <td>WD</td>\n",
       "      <td>Normal</td>\n",
       "      <td>250000</td>\n",
       "    </tr>\n",
       "  </tbody>\n",
       "</table>\n",
       "<p>5 rows × 81 columns</p>\n",
       "</div>"
      ],
      "text/plain": [
       "   Id  MSSubClass MSZoning  LotFrontage  LotArea Street Alley LotShape  \\\n",
       "0   1          60       RL         65.0     8450   Pave   NaN      Reg   \n",
       "1   2          20       RL         80.0     9600   Pave   NaN      Reg   \n",
       "2   3          60       RL         68.0    11250   Pave   NaN      IR1   \n",
       "3   4          70       RL         60.0     9550   Pave   NaN      IR1   \n",
       "4   5          60       RL         84.0    14260   Pave   NaN      IR1   \n",
       "\n",
       "  LandContour Utilities    ...     PoolArea PoolQC Fence MiscFeature MiscVal  \\\n",
       "0         Lvl    AllPub    ...            0    NaN   NaN         NaN       0   \n",
       "1         Lvl    AllPub    ...            0    NaN   NaN         NaN       0   \n",
       "2         Lvl    AllPub    ...            0    NaN   NaN         NaN       0   \n",
       "3         Lvl    AllPub    ...            0    NaN   NaN         NaN       0   \n",
       "4         Lvl    AllPub    ...            0    NaN   NaN         NaN       0   \n",
       "\n",
       "  MoSold YrSold  SaleType  SaleCondition  SalePrice  \n",
       "0      2   2008        WD         Normal     208500  \n",
       "1      5   2007        WD         Normal     181500  \n",
       "2      9   2008        WD         Normal     223500  \n",
       "3      2   2006        WD        Abnorml     140000  \n",
       "4     12   2008        WD         Normal     250000  \n",
       "\n",
       "[5 rows x 81 columns]"
      ]
     },
     "execution_count": 4,
     "metadata": {},
     "output_type": "execute_result"
    }
   ],
   "source": [
    "train.head()"
   ]
  },
  {
   "cell_type": "code",
   "execution_count": 5,
   "metadata": {},
   "outputs": [],
   "source": [
    "all_data = pd.concat((train.loc[:,'MSSubClass':'SaleCondition'],\n",
    "                      test.loc[:,'MSSubClass':'SaleCondition']))"
   ]
  },
  {
   "cell_type": "markdown",
   "metadata": {},
   "source": [
    "Data preprocessing:\n",
    "We're not going to do anything fancy here:\n",
    "\n",
    "* First I'll transform the skewed numeric features by taking log(feature + 1) - this will make the features more normal\n",
    "* Create Dummy variables for the categorical features\n",
    "* Replace the numeric missing values (NaN's) with the mean of their respective columns"
   ]
  },
  {
   "cell_type": "code",
   "execution_count": 6,
   "metadata": {},
   "outputs": [
    {
     "data": {
      "text/plain": [
       "array([[<matplotlib.axes._subplots.AxesSubplot object at 0x000002005B5850B8>,\n",
       "        <matplotlib.axes._subplots.AxesSubplot object at 0x000002005B853F98>]], dtype=object)"
      ]
     },
     "execution_count": 6,
     "metadata": {},
     "output_type": "execute_result"
    },
    {
     "data": {
      "image/png": "[encoded data removed]",
      "text/plain": [
       "<matplotlib.figure.Figure at 0x2005b6958d0>"
      ]
     },
     "metadata": {},
     "output_type": "display_data"
    }
   ],
   "source": [
    "matplotlib.rcParams['figure.figsize'] = (12.0, 6.0)\n",
    "prices = pd.DataFrame({\"SalePrice\":train[\"SalePrice\"], \"log(SalePrice + 1)\":np.log1p(train[\"SalePrice\"])})\n",
    "prices.hist()"
   ]
  },
  {
   "cell_type": "code",
   "execution_count": 7,
   "metadata": {},
   "outputs": [],
   "source": [
    "# log transform the sale price\n",
    "train[\"SalePrice\"] = np.log1p(train[\"SalePrice\"])\n",
    "\n",
    "# get the numberical features\n",
    "numeric_feats = all_data.dtypes[all_data.dtypes != \"object\"].index\n",
    "\n",
    "# compute the skeweness factor of features\n",
    "# take features with factor greater than .75\n",
    "skewed_feats = train[numeric_feats].apply(lambda x: skew(x.dropna())) #compute skewness\n",
    "skewed_feats = skewed_feats[skewed_feats > 0.75]\n",
    "skewed_feats = skewed_feats.index\n",
    "\n",
    "# take the log of all skewed features\n",
    "all_data[skewed_feats] = np.log1p(all_data[skewed_feats])"
   ]
  },
  {
   "cell_type": "code",
   "execution_count": 8,
   "metadata": {},
   "outputs": [],
   "source": [
    "# Convert categorical variable into dummy/indicator variables\n",
    "all_data = pd.get_dummies(all_data)"
   ]
  },
  {
   "cell_type": "code",
   "execution_count": 9,
   "metadata": {},
   "outputs": [],
   "source": [
    "# filling NA's with the mean of the column:\n",
    "all_data = all_data.fillna(all_data.mean())"
   ]
  },
  {
   "cell_type": "code",
   "execution_count": 10,
   "metadata": {},
   "outputs": [],
   "source": [
    "X_train = all_data[:train.shape[0]]\n",
    "X_test = all_data[train.shape[0]:]\n",
    "y = train.SalePrice"
   ]
  },
  {
   "cell_type": "markdown",
   "metadata": {},
   "source": [
    "##### Models\n",
    "Now we are going to use regularized linear regression models from the scikit learn module. I'm going to try both l_1(Lasso) and l_2(Ridge) regularization. I'll also define a function that returns the cross-validation rmse error so we can evaluate our models and pick the best tuning par"
   ]
  },
  {
   "cell_type": "code",
   "execution_count": 11,
   "metadata": {},
   "outputs": [],
   "source": [
    "from sklearn.linear_model import Ridge, RidgeCV, ElasticNet, Lasso,LassoCV, LassoLarsCV\n",
    "from sklearn.model_selection import cross_val_score"
   ]
  },
  {
   "cell_type": "code",
   "execution_count": 12,
   "metadata": {},
   "outputs": [],
   "source": [
    "# function to compute the root mean squared error of the cross validation\n",
    "def rmse_cv(model,X_train,y):\n",
    "    rmse= np.sqrt(-cross_val_score(model, X_train, y, scoring=\"neg_mean_squared_error\", cv = 5))\n",
    "    return(rmse)\n"
   ]
  },
  {
   "cell_type": "markdown",
   "metadata": {},
   "source": [
    "We'll run a ridge regression using a value of $\\alpha=0.1$"
   ]
  },
  {
   "cell_type": "code",
   "execution_count": 13,
   "metadata": {},
   "outputs": [],
   "source": [
    "alpha = .1\n",
    "ridge_model = Ridge(alpha=alpha)"
   ]
  },
  {
   "cell_type": "code",
   "execution_count": 14,
   "metadata": {},
   "outputs": [
    {
     "name": "stdout",
     "output_type": "stream",
     "text": [
      "Cross validation rmse using Ridge Regression = 0.13777538277187826\n"
     ]
    }
   ],
   "source": [
    "cv_rmse_ridge = rmse_cv(ridge_model,X_train,y).mean()\n",
    "print(\"Cross validation rmse using Ridge Regression = {}\".format(cv_rmse_ridge))"
   ]
  },
  {
   "cell_type": "markdown",
   "metadata": {},
   "source": [
    "The ridge model gives a cross validation rmse of .1377 when $\\alpha=.1$"
   ]
  },
  {
   "cell_type": "code",
   "execution_count": 15,
   "metadata": {},
   "outputs": [],
   "source": [
    "# fit the model then get the y predicted\n",
    "ridge_model.fit(X_train,y)\n",
    "y_pred = ridge_model.predict(X_train)\n",
    "# we took a log of the sale price in the pre processing, so we need to exponentiate y_pred and y to get the true sale prices\n",
    "y_pred_exp = np.expm1(y_pred)\n",
    "y_exp = np.expm1(y)"
   ]
  },
  {
   "cell_type": "code",
   "execution_count": 16,
   "metadata": {},
   "outputs": [],
   "source": [
    "def rms(predicted,target):\n",
    "    return np.sqrt(np.mean((predicted-target)**2))"
   ]
  },
  {
   "cell_type": "code",
   "execution_count": 17,
   "metadata": {},
   "outputs": [
    {
     "name": "stdout",
     "output_type": "stream",
     "text": [
      "using alpha = 0.1, Ridge regression had an rmse of 17965.974938885814\n"
     ]
    }
   ],
   "source": [
    "rmse_ridge = rms(y_pred_exp,y_exp)\n",
    "print(\"using alpha = 0.1, Ridge regression had an rmse of {}\".format(rmse_ridge))"
   ]
  },
  {
   "cell_type": "markdown",
   "metadata": {},
   "source": [
    "The ridge model gives a  rmse in the Sale price of approximately 17965.97  when $\\alpha=.1$"
   ]
  },
  {
   "cell_type": "markdown",
   "metadata": {},
   "source": [
    "#### Question 3\n",
    "Compare a ridge regression and a lasso regression model. Optimize the alphas using cross\n",
    "validation. What is the best score you can get from a single ridge regression model and from\n",
    "a single lasso model?\n",
    "\n",
    "##### Ridge regresion"
   ]
  },
  {
   "cell_type": "code",
   "execution_count": 18,
   "metadata": {},
   "outputs": [],
   "source": [
    "n_alphas = 200\n",
    "alphas = np.logspace(-5, 3, n_alphas).tolist()\n",
    "cv_ridge_rmse = [rmse_cv(Ridge(alpha = alpha),X_train,y).mean() \n",
    "            for alpha in alphas]"
   ]
  },
  {
   "cell_type": "code",
   "execution_count": 19,
   "metadata": {},
   "outputs": [
    {
     "data": {
      "text/plain": [
       "Text(0,0.5,'RMSE')"
      ]
     },
     "execution_count": 19,
     "metadata": {},
     "output_type": "execute_result"
    },
    {
     "data": {
      "image/png": "[encoded data removed]",
      "text/plain": [
       "<matplotlib.figure.Figure at 0x2005bc9e358>"
      ]
     },
     "metadata": {},
     "output_type": "display_data"
    }
   ],
   "source": [
    "cv_ridge_rmse = pd.Series(cv_ridge_rmse, index = alphas)\n",
    "cv_ridge_rmse.plot(title = \"Cross Validation Error for Ridge Regression\")\n",
    "plt.xlabel(\"alpha value\")\n",
    "plt.xlim(0,100)\n",
    "plt.ylabel(\"RMSE\")"
   ]
  },
  {
   "cell_type": "code",
   "execution_count": 22,
   "metadata": {},
   "outputs": [
    {
     "name": "stdout",
     "output_type": "stream",
     "text": [
      "The lowest cross validation RMSE for Ridge Regression is 0.12733847319204633 when alpha=9.771241535346501\n"
     ]
    }
   ],
   "source": [
    "min_rmse_ridge = cv_ridge_rmse.min()\n",
    "best_alpha_ridge = cv_ridge_rmse[cv_ridge_rmse==min_rmse_ridge].index[0]\n",
    "print(\"The lowest cross validation RMSE for Ridge Regression is {} when alpha={}\".format(min_rmse_ridge,best_alpha_ridge))"
   ]
  },
  {
   "cell_type": "markdown",
   "metadata": {},
   "source": [
    "##### Lasso regression"
   ]
  },
  {
   "cell_type": "code",
   "execution_count": 21,
   "metadata": {},
   "outputs": [
    {
     "data": {
      "text/plain": [
       "(-0.5, 0.5)"
      ]
     },
     "execution_count": 21,
     "metadata": {},
     "output_type": "execute_result"
    },
    {
     "data": {
      "image/png": "[encoded data removed]",
      "text/plain": [
       "<matplotlib.figure.Figure at 0x2005c849fd0>"
      ]
     },
     "metadata": {},
     "output_type": "display_data"
    }
   ],
   "source": [
    "# the alphas in lasso are inverted from ridge\n",
    "inv_alphas = np.ones(len(alphas)) /np.array(alphas)\n",
    "cv_lasso_rmse = [rmse_cv(Lasso(alpha = alpha),X_train,y).mean() \n",
    "            for alpha in inv_alphas]\n",
    "cv_lasso_rmse = pd.Series(cv_lasso_rmse, index = inv_alphas)\n",
    "cv_lasso_rmse.plot(title = \"Cross Validation Error For Lasso\")\n",
    "plt.xlabel(\"alpha value\")\n",
    "plt.ylabel(\"RMSE\")\n",
    "plt.xlim(-.5,.5)"
   ]
  },
  {
   "cell_type": "code",
   "execution_count": 23,
   "metadata": {},
   "outputs": [
    {
     "name": "stdout",
     "output_type": "stream",
     "text": [
      "The lowest cross validation RMSE for Ridge Regression is 0.1241949894226694 when alpha=0.001\n"
     ]
    }
   ],
   "source": [
    "min_rmse_lasso = cv_lasso_rmse.min()\n",
    "best_alpha_lasso = cv_lasso_rmse[cv_lasso_rmse==min_rmse_lasso].index[0]\n",
    "print(\"The lowest cross validation RMSE for Ridge Regression is {} when alpha={}\".format(min_rmse_lasso,best_alpha_lasso))"
   ]
  },
  {
   "cell_type": "code",
   "execution_count": 24,
   "metadata": {},
   "outputs": [],
   "source": [
    "# Create predictions with the best alpha scores for lasso and ridge\n",
    "best_ridge = Ridge(alpha=best_alpha_ridge).fit(X_train,y)\n",
    "best_lasso = Lasso(alpha=best_alpha_lasso).fit(X_train,y)"
   ]
  },
  {
   "cell_type": "code",
   "execution_count": 25,
   "metadata": {},
   "outputs": [],
   "source": [
    "# exponentiate the prediction since we took the log of the sale price in the training data\n",
    "y_pred_ridge = np.expm1(best_ridge.predict(X_test))\n",
    "y_pred_lasso = np.expm1(best_lasso.predict(X_test))\n",
    "ids = test['Id']"
   ]
  },
  {
   "cell_type": "code",
   "execution_count": 34,
   "metadata": {},
   "outputs": [],
   "source": [
    "def print_predictions(filename,header,ids,y_pred):\n",
    "    f = open(filename,'w')\n",
    "    numRows = len(ids)\n",
    "    f.write(header)\n",
    "    for i in range(numRows):\n",
    "        idNum = ids[i]\n",
    "        y = y_pred[i]\n",
    "        f.write(\"{},{}\\n\".format(idNum,y))\n",
    "    f.close()"
   ]
  },
  {
   "cell_type": "code",
   "execution_count": 329,
   "metadata": {},
   "outputs": [],
   "source": [
    "print_predictions(\"ridge_prediction.csv\",'Id,SalePrice\\n',ids,y_pred_ridge)\n",
    "print_predictions(\"lasso_prediction.csv\",'Id,SalePrice\\n',ids,y_pred_lasso)"
   ]
  },
  {
   "cell_type": "markdown",
   "metadata": {},
   "source": [
    "My lasso submission scored 0.12238.  \n",
    "My ridge regression scored 0.12225."
   ]
  },
  {
   "cell_type": "markdown",
   "metadata": {},
   "source": [
    "#### Question 4\n",
    "Plot the $l_0$ norm (number of nonzeros) of the coefficients that lasso produces as you vary the\n",
    "strength of regularization parameter alpha."
   ]
  },
  {
   "cell_type": "code",
   "execution_count": 107,
   "metadata": {},
   "outputs": [],
   "source": [
    "l0_norm = np.zeros(len(inv_alphas))\n",
    "for i in range(len(inv_alphas)):\n",
    "    alpha = inv_alphas[i]\n",
    "    lasso_model = Lasso(alpha=alpha)\n",
    "    lasso_model.fit(X_train,y)\n",
    "    coeff = lasso_model.coef_\n",
    "    num_nzero_coeff = sum(coeff != 0)\n",
    "    l0_norm[i] = num_nzero_coeff\n"
   ]
  },
  {
   "cell_type": "code",
   "execution_count": 108,
   "metadata": {},
   "outputs": [
    {
     "data": {
      "image/png": "[encoded data removed]",
      "text/plain": [
       "<Figure size 864x432 with 1 Axes>"
      ]
     },
     "metadata": {},
     "output_type": "display_data"
    }
   ],
   "source": [
    "plt.bar(inv_alphas,l0_norm)\n",
    "plt.xlim(-3,100)\n",
    "plt.title(\"L0 norm for lasso\")\n",
    "plt.xlabel('alpha value')\n",
    "plt.ylabel('num non zero coeffs')\n",
    "plt.show()"
   ]
  },
  {
   "cell_type": "markdown",
   "metadata": {},
   "source": [
    "#### Question 5\n",
    "Add the outputs of your models as features and train a ridge regression on all the features\n",
    "plus the model outputs. This is called Ensembling and Stacking, which we discussed in class.\n",
    "Be careful not to overfit. What score can you get?"
   ]
  },
  {
   "cell_type": "code",
   "execution_count": 27,
   "metadata": {},
   "outputs": [],
   "source": [
    "ridge_model_output = best_ridge.predict(X_train).tolist()\n",
    "lasso_model_output = best_lasso.predict(X_train).tolist()"
   ]
  },
  {
   "cell_type": "code",
   "execution_count": 28,
   "metadata": {},
   "outputs": [
    {
     "name": "stderr",
     "output_type": "stream",
     "text": [
      "C:\\Users\\javie\\Anaconda3\\lib\\site-packages\\ipykernel_launcher.py:2: SettingWithCopyWarning: \n",
      "A value is trying to be set on a copy of a slice from a DataFrame.\n",
      "Try using .loc[row_indexer,col_indexer] = value instead\n",
      "\n",
      "See the caveats in the documentation: http://pandas.pydata.org/pandas-docs/stable/indexing.html#indexing-view-versus-copy\n",
      "  \n",
      "C:\\Users\\javie\\Anaconda3\\lib\\site-packages\\ipykernel_launcher.py:3: SettingWithCopyWarning: \n",
      "A value is trying to be set on a copy of a slice from a DataFrame.\n",
      "Try using .loc[row_indexer,col_indexer] = value instead\n",
      "\n",
      "See the caveats in the documentation: http://pandas.pydata.org/pandas-docs/stable/indexing.html#indexing-view-versus-copy\n",
      "  This is separate from the ipykernel package so we can avoid doing imports until\n"
     ]
    }
   ],
   "source": [
    "# add the output of the ridge and lasso models as features of X_train\n",
    "X_train['ridge_pred'] = ridge_model_output\n",
    "X_train['lasso_pred'] = lasso_model_output"
   ]
  },
  {
   "cell_type": "code",
   "execution_count": 29,
   "metadata": {},
   "outputs": [
    {
     "data": {
      "text/plain": [
       "Text(0,0.5,'RMSE')"
      ]
     },
     "execution_count": 29,
     "metadata": {},
     "output_type": "execute_result"
    },
    {
     "data": {
      "image/png": "[encoded data removed]",
      "text/plain": [
       "<matplotlib.figure.Figure at 0x2005c74a438>"
      ]
     },
     "metadata": {},
     "output_type": "display_data"
    }
   ],
   "source": [
    "# now train a ridge regression with the new features\n",
    "n_alphas = 200\n",
    "alphas = np.logspace(-5, 3, n_alphas).tolist()\n",
    "# Now retrain a ridge regression.\n",
    "cv_ridge_stacking = [rmse_cv(Ridge(alpha = alpha),X_train,y).mean() \n",
    "            for alpha in alphas]\n",
    "cv_ridge_stacking = pd.Series(cv_ridge_stacking, index = alphas)\n",
    "cv_ridge_stacking.plot(title = \"Cross Validation Error for Ridge Regression\")\n",
    "plt.xlabel(\"alpha value\")\n",
    "plt.xlim(0,100)\n",
    "plt.ylabel(\"RMSE\")"
   ]
  },
  {
   "cell_type": "code",
   "execution_count": 30,
   "metadata": {},
   "outputs": [
    {
     "name": "stdout",
     "output_type": "stream",
     "text": [
      "The lowest cross validation RMSE after stacking for Ridge Regression is 0.12513383313691065 when alpha=14.149912974345758\n"
     ]
    }
   ],
   "source": [
    "min_rmse_ridge_stacking = cv_ridge_stacking.min()\n",
    "best_alpha_ridge_stacking = cv_ridge_stacking[cv_ridge_stacking==min_rmse_ridge_stacking].index[0]\n",
    "print(\"The lowest cross validation RMSE after stacking for Ridge Regression is {} when alpha={}\".format(min_rmse_ridge_stacking,best_alpha_ridge_stacking))"
   ]
  },
  {
   "cell_type": "code",
   "execution_count": 31,
   "metadata": {},
   "outputs": [],
   "source": [
    "best_ridge_stacking = Ridge(alpha=best_alpha_ridge_stacking).fit(X_train,y)"
   ]
  },
  {
   "cell_type": "code",
   "execution_count": 32,
   "metadata": {},
   "outputs": [
    {
     "name": "stderr",
     "output_type": "stream",
     "text": [
      "C:\\Users\\javie\\Anaconda3\\lib\\site-packages\\ipykernel_launcher.py:4: SettingWithCopyWarning: \n",
      "A value is trying to be set on a copy of a slice from a DataFrame.\n",
      "Try using .loc[row_indexer,col_indexer] = value instead\n",
      "\n",
      "See the caveats in the documentation: http://pandas.pydata.org/pandas-docs/stable/indexing.html#indexing-view-versus-copy\n",
      "  after removing the cwd from sys.path.\n",
      "C:\\Users\\javie\\Anaconda3\\lib\\site-packages\\ipykernel_launcher.py:5: SettingWithCopyWarning: \n",
      "A value is trying to be set on a copy of a slice from a DataFrame.\n",
      "Try using .loc[row_indexer,col_indexer] = value instead\n",
      "\n",
      "See the caveats in the documentation: http://pandas.pydata.org/pandas-docs/stable/indexing.html#indexing-view-versus-copy\n",
      "  \"\"\"\n"
     ]
    }
   ],
   "source": [
    "# Add the predictions from ridge and lasso to the test data as well\n",
    "y_pred_ridge = best_ridge.predict(X_test).tolist()\n",
    "y_pred_lasso = best_lasso.predict(X_test).tolist()\n",
    "X_test['ridge_pred'] = y_pred_ridge\n",
    "X_test['lasso_pred'] = y_pred_lasso\n"
   ]
  },
  {
   "cell_type": "code",
   "execution_count": 35,
   "metadata": {},
   "outputs": [],
   "source": [
    "# don't forget to exponentiate the outputs\n",
    "y_pred_stacking = np.expm1(best_ridge_stacking.predict(X_test))\n",
    "print_predictions(\"stacking_prediction.csv\",'Id,SalePrice\\n',ids,y_pred_stacking)"
   ]
  },
  {
   "cell_type": "markdown",
   "metadata": {},
   "source": [
    "Stacking had a score of 0.12191 which is an improvement!"
   ]
  },
  {
   "cell_type": "markdown",
   "metadata": {},
   "source": [
    "#### Question 6\n",
    "Install XGBoost and train a gradient descent boost regression. What score can you get from a single XGB?"
   ]
  },
  {
   "cell_type": "code",
   "execution_count": 13,
   "metadata": {},
   "outputs": [],
   "source": [
    "import xgboost\n",
    "from xgboost import plot_importance\n",
    "from sklearn.model_selection import GridSearchCV\n",
    "from sklearn.model_selection import cross_val_score,KFold\n",
    "from sklearn.model_selection import  train_test_split\n"
   ]
  },
  {
   "cell_type": "markdown",
   "metadata": {},
   "source": [
    "Remove the stacking columns from the data for now"
   ]
  },
  {
   "cell_type": "code",
   "execution_count": 14,
   "metadata": {},
   "outputs": [],
   "source": [
    "train = pd.read_csv(\"./input/train.csv\")\n",
    "test = pd.read_csv(\"./input/test.csv\")\n",
    "all_data = pd.concat((train.loc[:,'MSSubClass':'SaleCondition'],\n",
    "                      test.loc[:,'MSSubClass':'SaleCondition']))\n",
    "all_data = pd.get_dummies(all_data)\n",
    "# filling NA's with the mean of the column:\n",
    "all_data = all_data.fillna(all_data.mean())\n",
    "X_train = all_data[:train.shape[0]]\n",
    "X_test = all_data[train.shape[0]:]\n",
    "y = train.SalePrice\n",
    "ids = test['Id']"
   ]
  },
  {
   "cell_type": "markdown",
   "metadata": {},
   "source": [
    "##### Optimizing XGBoost hyperparameters"
   ]
  },
  {
   "cell_type": "code",
   "execution_count": 13,
   "metadata": {},
   "outputs": [
    {
     "name": "stdout",
     "output_type": "stream",
     "text": [
      "Fitting 3 folds for each of 162 candidates, totalling 486 fits\n"
     ]
    },
    {
     "name": "stderr",
     "output_type": "stream",
     "text": [
      "[Parallel(n_jobs=6)]: Using backend LokyBackend with 6 concurrent workers.\n",
      "[Parallel(n_jobs=6)]: Done   1 tasks      | elapsed:    5.4s\n",
      "[Parallel(n_jobs=6)]: Done   6 tasks      | elapsed:    7.4s\n",
      "[Parallel(n_jobs=6)]: Done  13 tasks      | elapsed:   15.3s\n",
      "[Parallel(n_jobs=6)]: Done  20 tasks      | elapsed:   26.3s\n",
      "[Parallel(n_jobs=6)]: Done  29 tasks      | elapsed:   37.5s\n",
      "[Parallel(n_jobs=6)]: Done  38 tasks      | elapsed:   58.1s\n",
      "[Parallel(n_jobs=6)]: Done  49 tasks      | elapsed:  1.3min\n",
      "[Parallel(n_jobs=6)]: Done  60 tasks      | elapsed:  1.5min\n",
      "[Parallel(n_jobs=6)]: Done  73 tasks      | elapsed:  1.7min\n",
      "[Parallel(n_jobs=6)]: Done  86 tasks      | elapsed:  2.0min\n",
      "[Parallel(n_jobs=6)]: Done 101 tasks      | elapsed:  2.5min\n",
      "[Parallel(n_jobs=6)]: Done 116 tasks      | elapsed:  2.8min\n",
      "[Parallel(n_jobs=6)]: Done 133 tasks      | elapsed:  3.2min\n",
      "[Parallel(n_jobs=6)]: Done 150 tasks      | elapsed:  3.6min\n",
      "[Parallel(n_jobs=6)]: Done 169 tasks      | elapsed:  4.1min\n",
      "[Parallel(n_jobs=6)]: Done 188 tasks      | elapsed:  4.6min\n",
      "[Parallel(n_jobs=6)]: Done 209 tasks      | elapsed:  5.4min\n",
      "[Parallel(n_jobs=6)]: Done 230 tasks      | elapsed:  5.9min\n",
      "[Parallel(n_jobs=6)]: Done 253 tasks      | elapsed:  6.7min\n",
      "[Parallel(n_jobs=6)]: Done 276 tasks      | elapsed:  7.4min\n",
      "[Parallel(n_jobs=6)]: Done 301 tasks      | elapsed:  8.1min\n",
      "[Parallel(n_jobs=6)]: Done 326 tasks      | elapsed:  9.0min\n",
      "[Parallel(n_jobs=6)]: Done 353 tasks      | elapsed:  9.8min\n",
      "[Parallel(n_jobs=6)]: Done 380 tasks      | elapsed: 11.0min\n",
      "[Parallel(n_jobs=6)]: Done 409 tasks      | elapsed: 11.9min\n",
      "[Parallel(n_jobs=6)]: Done 438 tasks      | elapsed: 13.1min\n",
      "[Parallel(n_jobs=6)]: Done 469 tasks      | elapsed: 14.2min\n",
      "[Parallel(n_jobs=6)]: Done 486 out of 486 | elapsed: 14.8min finished\n"
     ]
    },
    {
     "data": {
      "text/plain": [
       "GridSearchCV(cv='warn', error_score='raise-deprecating',\n",
       "       estimator=XGBRegressor(base_score=0.5, booster='gbtree', colsample_bylevel=1,\n",
       "       colsample_bytree=0.8, gamma=0, learning_rate=0.1, max_delta_step=0,\n",
       "       max_depth=5, min_child_weight=1, missing=None, n_estimators=1000,\n",
       "       n_jobs=1, nthread=6, objective='reg:linear', random_state=0,\n",
       "       reg_alpha=0, reg_lambda=1, scale_pos_weight=1, seed=27, silent=True,\n",
       "       subsample=0.8),\n",
       "       fit_params=None, iid=False, n_jobs=6,\n",
       "       param_grid={'colsample_bytree': [0.4, 0.6, 0.8], 'min_child_weight': [1.5, 6, 10], 'learning_rate': [0.1, 0.07, 0.01], 'max_depth': [3, 5, 7], 'subsample': [0.6, 0.95]},\n",
       "       pre_dispatch='2*n_jobs', refit=True, return_train_score='warn',\n",
       "       scoring='neg_mean_squared_error', verbose=10)"
      ]
     },
     "execution_count": 13,
     "metadata": {},
     "output_type": "execute_result"
    }
   ],
   "source": [
    "parameters_for_testing = {\n",
    "    'colsample_bytree':[0.4,0.6,0.8],\n",
    "    'min_child_weight':[1.5,6,10],\n",
    "    'learning_rate':[0.1,0.07,0.01],\n",
    "    'max_depth':[3,5,7],\n",
    "    'subsample':[0.6,0.95]\n",
    "}\n",
    "\n",
    "xgb_model = xgboost.XGBRegressor(learning_rate =0.1, n_estimators=1000, max_depth=5,\n",
    "                                 min_child_weight=1, gamma=0, subsample=0.8, colsample_bytree=0.8, nthread=6, scale_pos_weight=1, seed=27)\n",
    "\n",
    "gsearch = GridSearchCV(estimator = xgb_model, param_grid = parameters_for_testing, n_jobs=6,iid=False, verbose=10,scoring='neg_mean_squared_error')\n",
    "gsearch.fit(X_train,y)\n",
    "\n"
   ]
  },
  {
   "cell_type": "code",
   "execution_count": 14,
   "metadata": {},
   "outputs": [
    {
     "name": "stdout",
     "output_type": "stream",
     "text": [
      "{'mean_fit_time': array([ 5.61972356,  5.52582256,  5.8757089 ,  5.32729181,  5.25396578,\n",
      "        5.47944299,  9.36917543,  8.33814057,  9.00943462,  8.84173918,\n",
      "        8.58921178,  8.02316578, 13.03844031, 12.76134729, 12.87229466,\n",
      "       10.1274035 , 12.86203059,  9.46549932,  5.48031855,  5.41632056,\n",
      "        6.57406712,  4.25869528,  5.63031006,  5.20239933,  9.54542152,\n",
      "        8.18497109,  8.71423086,  7.80103795,  7.94680754,  8.5082709 ,\n",
      "       14.53903214, 10.65278967, 11.95447119, 11.22961958, 11.44776114,\n",
      "       11.22891061,  5.52205038,  4.64491892,  5.43761245,  4.98340925,\n",
      "        5.80231643,  5.1205558 ,  9.58804099,  7.89236848,  8.92003489,\n",
      "        7.50033649,  7.96576111,  8.65821767, 12.08983541, 13.15802066,\n",
      "       11.92508578, 10.45054897, 12.18324717,  8.88561702,  7.16981705,\n",
      "        6.90882119,  6.94535295,  6.12951962,  7.41622305,  6.21574767,\n",
      "       11.91165177,  9.78735209, 11.72883606, 10.0956196 , 11.13187138,\n",
      "        9.70839365, 16.46690146, 16.38898277, 14.74890868, 14.47845729,\n",
      "       14.80837846, 14.66250348,  6.87864049,  6.44247039,  6.90910276,\n",
      "        6.05758572,  6.86022989,  5.89164257, 12.63968476, 10.24342251,\n",
      "       10.0367527 , 11.09821876, 11.27555911,  9.89973132, 14.63920911,\n",
      "       17.26721644, 15.94462411, 13.85184828, 14.42283996, 14.21459643,\n",
      "        6.95656125,  7.10677012,  6.67296751,  6.44562817,  6.64099296,\n",
      "        6.29083093, 11.45637989, 10.5247794 , 11.03211379, 10.68019819,\n",
      "       10.24613118,  9.64586616, 16.36083444, 14.88610188, 15.08217533,\n",
      "       14.55592553, 15.52279464, 12.67171669,  8.78938174,  7.06476084,\n",
      "        9.13188728,  6.7581838 ,  8.1258502 ,  8.21013641, 14.99730897,\n",
      "       11.4247419 , 15.84200541, 10.06998873, 13.85296146, 12.74853039,\n",
      "       17.63398266, 19.76634725, 18.27568762, 17.60472679, 17.41288042,\n",
      "       17.57779415,  8.20341396,  8.00439239,  8.86458174,  6.61324763,\n",
      "        8.60392006,  7.50138791, 14.68392968, 12.33495935, 12.60183676,\n",
      "       13.77145203, 12.69835186, 12.06639695, 18.60164388, 19.63779839,\n",
      "       19.62905828, 16.87743179, 17.03492395, 17.19845517,  7.96935892,\n",
      "        7.64131419,  7.82932107,  8.0480481 ,  8.60147516,  7.13553794,\n",
      "       13.45361487, 12.05285843, 13.89565039, 12.13017869, 13.15894787,\n",
      "       12.4537615 , 18.97262216, 18.0993832 , 17.86943944, 16.93418908,\n",
      "       17.50049353, 15.1840833 ]), 'std_fit_time': array([0.83790231, 0.30768427, 0.98311711, 0.51748507, 0.25688821,\n",
      "       0.69867353, 0.73204284, 0.64953484, 1.11090592, 0.95958175,\n",
      "       0.66159539, 0.56069545, 2.89273643, 0.38561872, 1.09685842,\n",
      "       1.19552747, 0.9407996 , 0.29143773, 0.94237176, 0.61271849,\n",
      "       0.1521239 , 0.96087321, 0.76221703, 0.37539546, 1.53446004,\n",
      "       0.7401394 , 1.10335499, 0.76451961, 0.62799319, 0.98462171,\n",
      "       0.83260763, 0.70886244, 1.89893279, 1.80591709, 0.37029245,\n",
      "       1.115171  , 0.98895728, 0.61029434, 0.41340091, 0.72581386,\n",
      "       0.86579136, 0.67862637, 0.2530353 , 0.43361672, 0.88369355,\n",
      "       0.96672638, 1.02641336, 0.72029157, 0.96951308, 1.36325635,\n",
      "       0.99871083, 1.67144528, 0.56897651, 0.99684045, 0.35253855,\n",
      "       0.63764472, 0.86979091, 1.32357687, 1.07209495, 0.87881752,\n",
      "       1.36136694, 1.23069266, 0.33576213, 0.38552509, 0.91191834,\n",
      "       0.11543536, 2.13190138, 2.34409772, 1.2390868 , 1.52873403,\n",
      "       1.50729027, 1.67768219, 0.84317154, 0.98115677, 0.44425589,\n",
      "       0.71709863, 0.61475768, 0.32504302, 0.76852676, 1.62000587,\n",
      "       1.66135255, 1.11705651, 0.94266559, 0.41816871, 1.18498208,\n",
      "       0.31965015, 0.99257656, 1.99435408, 0.16873495, 0.89409282,\n",
      "       0.83682208, 0.40856481, 0.50872655, 0.95141205, 0.19310464,\n",
      "       0.76153622, 0.29774457, 0.34665427, 1.55511066, 0.88174008,\n",
      "       0.59306552, 0.64947099, 1.09351191, 0.44484548, 1.45002598,\n",
      "       2.37977457, 0.8698643 , 1.3035248 , 1.10060217, 0.30703637,\n",
      "       1.09763622, 0.72427343, 1.12591473, 0.39694841, 0.13612816,\n",
      "       0.50141636, 0.82015777, 1.40811586, 1.66367648, 2.59010172,\n",
      "       1.47647008, 1.62549406, 1.56050178, 1.21012056, 2.28616895,\n",
      "       0.64650532, 2.01118959, 0.41045574, 1.62699195, 0.63706602,\n",
      "       0.38003605, 0.99617352, 0.99261139, 1.16134628, 0.94037324,\n",
      "       1.57748749, 0.95935417, 0.86551693, 0.75076802, 2.05100478,\n",
      "       2.0793691 , 0.21250595, 2.03300217, 1.13317635, 1.34655712,\n",
      "       0.89910951, 0.97809781, 1.60452357, 0.53471107, 0.92767285,\n",
      "       1.28278797, 0.84012776, 1.69935129, 1.4723411 , 2.28686446,\n",
      "       1.8653497 , 1.93276383, 2.11314735, 0.79204913, 0.55233606,\n",
      "       0.66631959, 0.64292997]), 'mean_score_time': array([0.0274024 , 0.02865044, 0.02924387, 0.03859226, 0.03614569,\n",
      "       0.02452453, 0.06490922, 0.03260096, 0.03441421, 0.06140709,\n",
      "       0.05902521, 0.04040893, 0.04193203, 0.08444897, 0.04824511,\n",
      "       0.05863523, 0.03412437, 0.04624693, 0.0440042 , 0.01599638,\n",
      "       0.02466321, 0.02364961, 0.01899687, 0.03095897, 0.0727938 ,\n",
      "       0.03691777, 0.06445773, 0.04064528, 0.04510363, 0.03541009,\n",
      "       0.05343986, 0.03657381, 0.0480752 , 0.05081479, 0.02942077,\n",
      "       0.05239741, 0.04938086, 0.03412867, 0.02308122, 0.01624878,\n",
      "       0.02879469, 0.03203376, 0.03244766, 0.03994687, 0.02598906,\n",
      "       0.04507454, 0.03094316, 0.06022   , 0.03619019, 0.04259451,\n",
      "       0.04601757, 0.07196712, 0.07024503, 0.05937465, 0.04058663,\n",
      "       0.04947837, 0.02668707, 0.0367113 , 0.02859012, 0.03093815,\n",
      "       0.02588264, 0.02733397, 0.02531099, 0.04013602, 0.0499626 ,\n",
      "       0.04312563, 0.0496037 , 0.07620438, 0.0530107 , 0.07340765,\n",
      "       0.0301458 , 0.08204897, 0.03357363, 0.01570662, 0.04056517,\n",
      "       0.03310124, 0.02109138, 0.02532689, 0.03181267, 0.04706073,\n",
      "       0.04550751, 0.03288015, 0.03558302, 0.04610546, 0.03890109,\n",
      "       0.07124639, 0.036146  , 0.06439583, 0.03405031, 0.06112647,\n",
      "       0.02770797, 0.03970965, 0.03667887, 0.02927756, 0.02434738,\n",
      "       0.02019842, 0.0274926 , 0.04584908, 0.04003159, 0.03868405,\n",
      "       0.03135578, 0.03628771, 0.04981351, 0.08633002, 0.0395445 ,\n",
      "       0.04734906, 0.04355796, 0.0302465 , 0.03256917, 0.04267708,\n",
      "       0.04481959, 0.01617368, 0.02411652, 0.02617645, 0.05287488,\n",
      "       0.02851025, 0.03315194, 0.04252895, 0.02368641, 0.04156772,\n",
      "       0.09954214, 0.04974143, 0.06360332, 0.04816763, 0.0393134 ,\n",
      "       0.06496652, 0.0217495 , 0.02706194, 0.02982505, 0.02740383,\n",
      "       0.02545738, 0.02015479, 0.04624224, 0.035501  , 0.03162551,\n",
      "       0.04746103, 0.05183959, 0.02782671, 0.06812398, 0.07639877,\n",
      "       0.03048468, 0.06681331, 0.02898129, 0.0685091 , 0.0363555 ,\n",
      "       0.03000998, 0.02725848, 0.02867405, 0.02774334, 0.02209306,\n",
      "       0.03668483, 0.04082545, 0.03990722, 0.02269665, 0.02997327,\n",
      "       0.0306677 , 0.03691888, 0.05912987, 0.04497369, 0.04856698,\n",
      "       0.03398196, 0.02263387]), 'std_score_time': array([1.52597048e-02, 1.71525162e-02, 9.24983602e-03, 1.46949830e-02,\n",
      "       1.49140873e-02, 1.34547956e-02, 4.08682321e-03, 5.74544517e-03,\n",
      "       1.33006460e-02, 2.66094264e-02, 7.44465131e-03, 1.33955318e-02,\n",
      "       8.67171734e-03, 2.13328171e-02, 6.33206965e-03, 1.51049671e-02,\n",
      "       3.23260881e-03, 1.08489093e-02, 2.02348904e-02, 1.44676974e-04,\n",
      "       3.95429548e-03, 1.06950549e-02, 4.57460233e-03, 1.21571178e-02,\n",
      "       5.16791088e-03, 1.06514804e-02, 3.13113209e-02, 2.32588792e-02,\n",
      "       1.70114751e-02, 1.20016562e-02, 2.22475255e-02, 1.75014809e-03,\n",
      "       2.51443338e-02, 2.52907299e-02, 3.60007125e-04, 1.08404459e-02,\n",
      "       4.79253010e-03, 1.33021273e-02, 1.02083132e-02, 9.06948648e-05,\n",
      "       1.51367519e-02, 1.24433383e-02, 1.36595520e-02, 2.05811805e-02,\n",
      "       2.99424169e-03, 1.58944911e-02, 1.26194450e-02, 7.27647381e-03,\n",
      "       7.97971975e-03, 1.14307567e-02, 1.22272950e-02, 3.18644312e-02,\n",
      "       9.21506225e-03, 2.50007526e-02, 1.68038961e-02, 9.08535894e-04,\n",
      "       7.44717591e-03, 1.59011846e-02, 1.22362234e-02, 1.76309442e-02,\n",
      "       2.69112119e-04, 4.06259552e-03, 6.13169047e-04, 1.20046456e-02,\n",
      "       1.89748337e-02, 1.34873071e-02, 1.54369207e-02, 2.30779288e-02,\n",
      "       2.06190382e-02, 2.85459481e-02, 3.73536424e-04, 8.68052618e-03,\n",
      "       1.50114040e-02, 1.42362092e-04, 8.40938180e-03, 1.40933439e-02,\n",
      "       7.96672063e-03, 1.37470749e-02, 3.99871226e-03, 3.17876566e-02,\n",
      "       1.36010339e-02, 6.76222504e-03, 3.92212479e-03, 1.13253765e-02,\n",
      "       4.78003079e-03, 4.98215771e-02, 7.12064116e-03, 2.32682274e-02,\n",
      "       6.43947528e-03, 2.16192768e-02, 1.17416289e-02, 8.84068284e-03,\n",
      "       1.52482868e-02, 9.03975156e-03, 1.27720926e-02, 5.17773060e-03,\n",
      "       7.07444889e-03, 1.63051254e-02, 1.66032780e-02, 1.16461184e-02,\n",
      "       1.35458114e-02, 1.99552991e-02, 2.08649405e-02, 1.51724861e-03,\n",
      "       7.39908600e-03, 1.91706178e-02, 2.17463894e-02, 2.72362412e-03,\n",
      "       7.91556659e-03, 2.10607189e-02, 1.43857597e-02, 2.67155391e-04,\n",
      "       8.68613934e-03, 1.39553577e-02, 1.96605987e-02, 5.05351290e-03,\n",
      "       1.15647621e-02, 1.80161519e-02, 6.20017619e-04, 1.16428860e-02,\n",
      "       9.34633395e-03, 1.87676323e-02, 2.53970303e-02, 1.00916666e-02,\n",
      "       1.32148354e-02, 1.22214863e-02, 7.75066643e-03, 1.58283455e-02,\n",
      "       1.88733409e-02, 1.29390705e-02, 1.36985760e-02, 3.97769907e-03,\n",
      "       2.89093272e-02, 1.73763342e-02, 1.09275650e-02, 1.86991143e-02,\n",
      "       1.03428102e-02, 5.61242892e-03, 2.31237654e-02, 1.42503228e-02,\n",
      "       5.47643930e-04, 1.78648960e-02, 3.39502494e-04, 1.32332932e-02,\n",
      "       1.68457370e-02, 9.59873226e-03, 1.61709895e-02, 1.75766705e-02,\n",
      "       1.68035127e-02, 4.99579531e-03, 1.98480133e-02, 1.50839803e-02,\n",
      "       1.67772992e-02, 1.53316597e-04, 1.16709647e-02, 1.23168989e-02,\n",
      "       1.00269844e-02, 2.07545958e-02, 2.34808106e-02, 1.42415496e-02,\n",
      "       2.00424187e-02, 7.42482944e-03]), 'param_colsample_bytree': masked_array(data=[0.4, 0.4, 0.4, 0.4, 0.4, 0.4, 0.4, 0.4, 0.4, 0.4, 0.4,\n",
      "                   0.4, 0.4, 0.4, 0.4, 0.4, 0.4, 0.4, 0.4, 0.4, 0.4, 0.4,\n",
      "                   0.4, 0.4, 0.4, 0.4, 0.4, 0.4, 0.4, 0.4, 0.4, 0.4, 0.4,\n",
      "                   0.4, 0.4, 0.4, 0.4, 0.4, 0.4, 0.4, 0.4, 0.4, 0.4, 0.4,\n",
      "                   0.4, 0.4, 0.4, 0.4, 0.4, 0.4, 0.4, 0.4, 0.4, 0.4, 0.6,\n",
      "                   0.6, 0.6, 0.6, 0.6, 0.6, 0.6, 0.6, 0.6, 0.6, 0.6, 0.6,\n",
      "                   0.6, 0.6, 0.6, 0.6, 0.6, 0.6, 0.6, 0.6, 0.6, 0.6, 0.6,\n",
      "                   0.6, 0.6, 0.6, 0.6, 0.6, 0.6, 0.6, 0.6, 0.6, 0.6, 0.6,\n",
      "                   0.6, 0.6, 0.6, 0.6, 0.6, 0.6, 0.6, 0.6, 0.6, 0.6, 0.6,\n",
      "                   0.6, 0.6, 0.6, 0.6, 0.6, 0.6, 0.6, 0.6, 0.6, 0.8, 0.8,\n",
      "                   0.8, 0.8, 0.8, 0.8, 0.8, 0.8, 0.8, 0.8, 0.8, 0.8, 0.8,\n",
      "                   0.8, 0.8, 0.8, 0.8, 0.8, 0.8, 0.8, 0.8, 0.8, 0.8, 0.8,\n",
      "                   0.8, 0.8, 0.8, 0.8, 0.8, 0.8, 0.8, 0.8, 0.8, 0.8, 0.8,\n",
      "                   0.8, 0.8, 0.8, 0.8, 0.8, 0.8, 0.8, 0.8, 0.8, 0.8, 0.8,\n",
      "                   0.8, 0.8, 0.8, 0.8, 0.8, 0.8, 0.8, 0.8],\n",
      "             mask=[False, False, False, False, False, False, False, False,\n",
      "                   False, False, False, False, False, False, False, False,\n",
      "                   False, False, False, False, False, False, False, False,\n",
      "                   False, False, False, False, False, False, False, False,\n",
      "                   False, False, False, False, False, False, False, False,\n",
      "                   False, False, False, False, False, False, False, False,\n",
      "                   False, False, False, False, False, False, False, False,\n",
      "                   False, False, False, False, False, False, False, False,\n",
      "                   False, False, False, False, False, False, False, False,\n",
      "                   False, False, False, False, False, False, False, False,\n",
      "                   False, False, False, False, False, False, False, False,\n",
      "                   False, False, False, False, False, False, False, False,\n",
      "                   False, False, False, False, False, False, False, False,\n",
      "                   False, False, False, False, False, False, False, False,\n",
      "                   False, False, False, False, False, False, False, False,\n",
      "                   False, False, False, False, False, False, False, False,\n",
      "                   False, False, False, False, False, False, False, False,\n",
      "                   False, False, False, False, False, False, False, False,\n",
      "                   False, False, False, False, False, False, False, False,\n",
      "                   False, False, False, False, False, False, False, False,\n",
      "                   False, False],\n",
      "       fill_value='?',\n",
      "            dtype=object), 'param_learning_rate': masked_array(data=[0.1, 0.1, 0.1, 0.1, 0.1, 0.1, 0.1, 0.1, 0.1, 0.1, 0.1,\n",
      "                   0.1, 0.1, 0.1, 0.1, 0.1, 0.1, 0.1, 0.07, 0.07, 0.07,\n",
      "                   0.07, 0.07, 0.07, 0.07, 0.07, 0.07, 0.07, 0.07, 0.07,\n",
      "                   0.07, 0.07, 0.07, 0.07, 0.07, 0.07, 0.01, 0.01, 0.01,\n",
      "                   0.01, 0.01, 0.01, 0.01, 0.01, 0.01, 0.01, 0.01, 0.01,\n",
      "                   0.01, 0.01, 0.01, 0.01, 0.01, 0.01, 0.1, 0.1, 0.1, 0.1,\n",
      "                   0.1, 0.1, 0.1, 0.1, 0.1, 0.1, 0.1, 0.1, 0.1, 0.1, 0.1,\n",
      "                   0.1, 0.1, 0.1, 0.07, 0.07, 0.07, 0.07, 0.07, 0.07,\n",
      "                   0.07, 0.07, 0.07, 0.07, 0.07, 0.07, 0.07, 0.07, 0.07,\n",
      "                   0.07, 0.07, 0.07, 0.01, 0.01, 0.01, 0.01, 0.01, 0.01,\n",
      "                   0.01, 0.01, 0.01, 0.01, 0.01, 0.01, 0.01, 0.01, 0.01,\n",
      "                   0.01, 0.01, 0.01, 0.1, 0.1, 0.1, 0.1, 0.1, 0.1, 0.1,\n",
      "                   0.1, 0.1, 0.1, 0.1, 0.1, 0.1, 0.1, 0.1, 0.1, 0.1, 0.1,\n",
      "                   0.07, 0.07, 0.07, 0.07, 0.07, 0.07, 0.07, 0.07, 0.07,\n",
      "                   0.07, 0.07, 0.07, 0.07, 0.07, 0.07, 0.07, 0.07, 0.07,\n",
      "                   0.01, 0.01, 0.01, 0.01, 0.01, 0.01, 0.01, 0.01, 0.01,\n",
      "                   0.01, 0.01, 0.01, 0.01, 0.01, 0.01, 0.01, 0.01, 0.01],\n",
      "             mask=[False, False, False, False, False, False, False, False,\n",
      "                   False, False, False, False, False, False, False, False,\n",
      "                   False, False, False, False, False, False, False, False,\n",
      "                   False, False, False, False, False, False, False, False,\n",
      "                   False, False, False, False, False, False, False, False,\n",
      "                   False, False, False, False, False, False, False, False,\n",
      "                   False, False, False, False, False, False, False, False,\n",
      "                   False, False, False, False, False, False, False, False,\n",
      "                   False, False, False, False, False, False, False, False,\n",
      "                   False, False, False, False, False, False, False, False,\n",
      "                   False, False, False, False, False, False, False, False,\n",
      "                   False, False, False, False, False, False, False, False,\n",
      "                   False, False, False, False, False, False, False, False,\n",
      "                   False, False, False, False, False, False, False, False,\n",
      "                   False, False, False, False, False, False, False, False,\n",
      "                   False, False, False, False, False, False, False, False,\n",
      "                   False, False, False, False, False, False, False, False,\n",
      "                   False, False, False, False, False, False, False, False,\n",
      "                   False, False, False, False, False, False, False, False,\n",
      "                   False, False, False, False, False, False, False, False,\n",
      "                   False, False],\n",
      "       fill_value='?',\n",
      "            dtype=object), 'param_max_depth': masked_array(data=[3, 3, 3, 3, 3, 3, 5, 5, 5, 5, 5, 5, 7, 7, 7, 7, 7, 7,\n",
      "                   3, 3, 3, 3, 3, 3, 5, 5, 5, 5, 5, 5, 7, 7, 7, 7, 7, 7,\n",
      "                   3, 3, 3, 3, 3, 3, 5, 5, 5, 5, 5, 5, 7, 7, 7, 7, 7, 7,\n",
      "                   3, 3, 3, 3, 3, 3, 5, 5, 5, 5, 5, 5, 7, 7, 7, 7, 7, 7,\n",
      "                   3, 3, 3, 3, 3, 3, 5, 5, 5, 5, 5, 5, 7, 7, 7, 7, 7, 7,\n",
      "                   3, 3, 3, 3, 3, 3, 5, 5, 5, 5, 5, 5, 7, 7, 7, 7, 7, 7,\n",
      "                   3, 3, 3, 3, 3, 3, 5, 5, 5, 5, 5, 5, 7, 7, 7, 7, 7, 7,\n",
      "                   3, 3, 3, 3, 3, 3, 5, 5, 5, 5, 5, 5, 7, 7, 7, 7, 7, 7,\n",
      "                   3, 3, 3, 3, 3, 3, 5, 5, 5, 5, 5, 5, 7, 7, 7, 7, 7, 7],\n",
      "             mask=[False, False, False, False, False, False, False, False,\n",
      "                   False, False, False, False, False, False, False, False,\n",
      "                   False, False, False, False, False, False, False, False,\n",
      "                   False, False, False, False, False, False, False, False,\n",
      "                   False, False, False, False, False, False, False, False,\n",
      "                   False, False, False, False, False, False, False, False,\n",
      "                   False, False, False, False, False, False, False, False,\n",
      "                   False, False, False, False, False, False, False, False,\n",
      "                   False, False, False, False, False, False, False, False,\n",
      "                   False, False, False, False, False, False, False, False,\n",
      "                   False, False, False, False, False, False, False, False,\n",
      "                   False, False, False, False, False, False, False, False,\n",
      "                   False, False, False, False, False, False, False, False,\n",
      "                   False, False, False, False, False, False, False, False,\n",
      "                   False, False, False, False, False, False, False, False,\n",
      "                   False, False, False, False, False, False, False, False,\n",
      "                   False, False, False, False, False, False, False, False,\n",
      "                   False, False, False, False, False, False, False, False,\n",
      "                   False, False, False, False, False, False, False, False,\n",
      "                   False, False, False, False, False, False, False, False,\n",
      "                   False, False],\n",
      "       fill_value='?',\n",
      "            dtype=object), 'param_min_child_weight': masked_array(data=[1.5, 1.5, 6, 6, 10, 10, 1.5, 1.5, 6, 6, 10, 10, 1.5,\n",
      "                   1.5, 6, 6, 10, 10, 1.5, 1.5, 6, 6, 10, 10, 1.5, 1.5, 6,\n",
      "                   6, 10, 10, 1.5, 1.5, 6, 6, 10, 10, 1.5, 1.5, 6, 6, 10,\n",
      "                   10, 1.5, 1.5, 6, 6, 10, 10, 1.5, 1.5, 6, 6, 10, 10,\n",
      "                   1.5, 1.5, 6, 6, 10, 10, 1.5, 1.5, 6, 6, 10, 10, 1.5,\n",
      "                   1.5, 6, 6, 10, 10, 1.5, 1.5, 6, 6, 10, 10, 1.5, 1.5, 6,\n",
      "                   6, 10, 10, 1.5, 1.5, 6, 6, 10, 10, 1.5, 1.5, 6, 6, 10,\n",
      "                   10, 1.5, 1.5, 6, 6, 10, 10, 1.5, 1.5, 6, 6, 10, 10,\n",
      "                   1.5, 1.5, 6, 6, 10, 10, 1.5, 1.5, 6, 6, 10, 10, 1.5,\n",
      "                   1.5, 6, 6, 10, 10, 1.5, 1.5, 6, 6, 10, 10, 1.5, 1.5, 6,\n",
      "                   6, 10, 10, 1.5, 1.5, 6, 6, 10, 10, 1.5, 1.5, 6, 6, 10,\n",
      "                   10, 1.5, 1.5, 6, 6, 10, 10, 1.5, 1.5, 6, 6, 10, 10],\n",
      "             mask=[False, False, False, False, False, False, False, False,\n",
      "                   False, False, False, False, False, False, False, False,\n",
      "                   False, False, False, False, False, False, False, False,\n",
      "                   False, False, False, False, False, False, False, False,\n",
      "                   False, False, False, False, False, False, False, False,\n",
      "                   False, False, False, False, False, False, False, False,\n",
      "                   False, False, False, False, False, False, False, False,\n",
      "                   False, False, False, False, False, False, False, False,\n",
      "                   False, False, False, False, False, False, False, False,\n",
      "                   False, False, False, False, False, False, False, False,\n",
      "                   False, False, False, False, False, False, False, False,\n",
      "                   False, False, False, False, False, False, False, False,\n",
      "                   False, False, False, False, False, False, False, False,\n",
      "                   False, False, False, False, False, False, False, False,\n",
      "                   False, False, False, False, False, False, False, False,\n",
      "                   False, False, False, False, False, False, False, False,\n",
      "                   False, False, False, False, False, False, False, False,\n",
      "                   False, False, False, False, False, False, False, False,\n",
      "                   False, False, False, False, False, False, False, False,\n",
      "                   False, False, False, False, False, False, False, False,\n",
      "                   False, False],\n",
      "       fill_value='?',\n",
      "            dtype=object), 'param_subsample': masked_array(data=[0.6, 0.95, 0.6, 0.95, 0.6, 0.95, 0.6, 0.95, 0.6, 0.95,\n",
      "                   0.6, 0.95, 0.6, 0.95, 0.6, 0.95, 0.6, 0.95, 0.6, 0.95,\n",
      "                   0.6, 0.95, 0.6, 0.95, 0.6, 0.95, 0.6, 0.95, 0.6, 0.95,\n",
      "                   0.6, 0.95, 0.6, 0.95, 0.6, 0.95, 0.6, 0.95, 0.6, 0.95,\n",
      "                   0.6, 0.95, 0.6, 0.95, 0.6, 0.95, 0.6, 0.95, 0.6, 0.95,\n",
      "                   0.6, 0.95, 0.6, 0.95, 0.6, 0.95, 0.6, 0.95, 0.6, 0.95,\n",
      "                   0.6, 0.95, 0.6, 0.95, 0.6, 0.95, 0.6, 0.95, 0.6, 0.95,\n",
      "                   0.6, 0.95, 0.6, 0.95, 0.6, 0.95, 0.6, 0.95, 0.6, 0.95,\n",
      "                   0.6, 0.95, 0.6, 0.95, 0.6, 0.95, 0.6, 0.95, 0.6, 0.95,\n",
      "                   0.6, 0.95, 0.6, 0.95, 0.6, 0.95, 0.6, 0.95, 0.6, 0.95,\n",
      "                   0.6, 0.95, 0.6, 0.95, 0.6, 0.95, 0.6, 0.95, 0.6, 0.95,\n",
      "                   0.6, 0.95, 0.6, 0.95, 0.6, 0.95, 0.6, 0.95, 0.6, 0.95,\n",
      "                   0.6, 0.95, 0.6, 0.95, 0.6, 0.95, 0.6, 0.95, 0.6, 0.95,\n",
      "                   0.6, 0.95, 0.6, 0.95, 0.6, 0.95, 0.6, 0.95, 0.6, 0.95,\n",
      "                   0.6, 0.95, 0.6, 0.95, 0.6, 0.95, 0.6, 0.95, 0.6, 0.95,\n",
      "                   0.6, 0.95, 0.6, 0.95, 0.6, 0.95, 0.6, 0.95, 0.6, 0.95,\n",
      "                   0.6, 0.95],\n",
      "             mask=[False, False, False, False, False, False, False, False,\n",
      "                   False, False, False, False, False, False, False, False,\n",
      "                   False, False, False, False, False, False, False, False,\n",
      "                   False, False, False, False, False, False, False, False,\n",
      "                   False, False, False, False, False, False, False, False,\n",
      "                   False, False, False, False, False, False, False, False,\n",
      "                   False, False, False, False, False, False, False, False,\n",
      "                   False, False, False, False, False, False, False, False,\n",
      "                   False, False, False, False, False, False, False, False,\n",
      "                   False, False, False, False, False, False, False, False,\n",
      "                   False, False, False, False, False, False, False, False,\n",
      "                   False, False, False, False, False, False, False, False,\n",
      "                   False, False, False, False, False, False, False, False,\n",
      "                   False, False, False, False, False, False, False, False,\n",
      "                   False, False, False, False, False, False, False, False,\n",
      "                   False, False, False, False, False, False, False, False,\n",
      "                   False, False, False, False, False, False, False, False,\n",
      "                   False, False, False, False, False, False, False, False,\n",
      "                   False, False, False, False, False, False, False, False,\n",
      "                   False, False, False, False, False, False, False, False,\n",
      "                   False, False],\n",
      "       fill_value='?',\n",
      "            dtype=object), 'params': [{'colsample_bytree': 0.4, 'learning_rate': 0.1, 'max_depth': 3, 'min_child_weight': 1.5, 'subsample': 0.6}, {'colsample_bytree': 0.4, 'learning_rate': 0.1, 'max_depth': 3, 'min_child_weight': 1.5, 'subsample': 0.95}, {'colsample_bytree': 0.4, 'learning_rate': 0.1, 'max_depth': 3, 'min_child_weight': 6, 'subsample': 0.6}, {'colsample_bytree': 0.4, 'learning_rate': 0.1, 'max_depth': 3, 'min_child_weight': 6, 'subsample': 0.95}, {'colsample_bytree': 0.4, 'learning_rate': 0.1, 'max_depth': 3, 'min_child_weight': 10, 'subsample': 0.6}, {'colsample_bytree': 0.4, 'learning_rate': 0.1, 'max_depth': 3, 'min_child_weight': 10, 'subsample': 0.95}, {'colsample_bytree': 0.4, 'learning_rate': 0.1, 'max_depth': 5, 'min_child_weight': 1.5, 'subsample': 0.6}, {'colsample_bytree': 0.4, 'learning_rate': 0.1, 'max_depth': 5, 'min_child_weight': 1.5, 'subsample': 0.95}, {'colsample_bytree': 0.4, 'learning_rate': 0.1, 'max_depth': 5, 'min_child_weight': 6, 'subsample': 0.6}, {'colsample_bytree': 0.4, 'learning_rate': 0.1, 'max_depth': 5, 'min_child_weight': 6, 'subsample': 0.95}, {'colsample_bytree': 0.4, 'learning_rate': 0.1, 'max_depth': 5, 'min_child_weight': 10, 'subsample': 0.6}, {'colsample_bytree': 0.4, 'learning_rate': 0.1, 'max_depth': 5, 'min_child_weight': 10, 'subsample': 0.95}, {'colsample_bytree': 0.4, 'learning_rate': 0.1, 'max_depth': 7, 'min_child_weight': 1.5, 'subsample': 0.6}, {'colsample_bytree': 0.4, 'learning_rate': 0.1, 'max_depth': 7, 'min_child_weight': 1.5, 'subsample': 0.95}, {'colsample_bytree': 0.4, 'learning_rate': 0.1, 'max_depth': 7, 'min_child_weight': 6, 'subsample': 0.6}, {'colsample_bytree': 0.4, 'learning_rate': 0.1, 'max_depth': 7, 'min_child_weight': 6, 'subsample': 0.95}, {'colsample_bytree': 0.4, 'learning_rate': 0.1, 'max_depth': 7, 'min_child_weight': 10, 'subsample': 0.6}, {'colsample_bytree': 0.4, 'learning_rate': 0.1, 'max_depth': 7, 'min_child_weight': 10, 'subsample': 0.95}, {'colsample_bytree': 0.4, 'learning_rate': 0.07, 'max_depth': 3, 'min_child_weight': 1.5, 'subsample': 0.6}, {'colsample_bytree': 0.4, 'learning_rate': 0.07, 'max_depth': 3, 'min_child_weight': 1.5, 'subsample': 0.95}, {'colsample_bytree': 0.4, 'learning_rate': 0.07, 'max_depth': 3, 'min_child_weight': 6, 'subsample': 0.6}, {'colsample_bytree': 0.4, 'learning_rate': 0.07, 'max_depth': 3, 'min_child_weight': 6, 'subsample': 0.95}, {'colsample_bytree': 0.4, 'learning_rate': 0.07, 'max_depth': 3, 'min_child_weight': 10, 'subsample': 0.6}, {'colsample_bytree': 0.4, 'learning_rate': 0.07, 'max_depth': 3, 'min_child_weight': 10, 'subsample': 0.95}, {'colsample_bytree': 0.4, 'learning_rate': 0.07, 'max_depth': 5, 'min_child_weight': 1.5, 'subsample': 0.6}, {'colsample_bytree': 0.4, 'learning_rate': 0.07, 'max_depth': 5, 'min_child_weight': 1.5, 'subsample': 0.95}, {'colsample_bytree': 0.4, 'learning_rate': 0.07, 'max_depth': 5, 'min_child_weight': 6, 'subsample': 0.6}, {'colsample_bytree': 0.4, 'learning_rate': 0.07, 'max_depth': 5, 'min_child_weight': 6, 'subsample': 0.95}, {'colsample_bytree': 0.4, 'learning_rate': 0.07, 'max_depth': 5, 'min_child_weight': 10, 'subsample': 0.6}, {'colsample_bytree': 0.4, 'learning_rate': 0.07, 'max_depth': 5, 'min_child_weight': 10, 'subsample': 0.95}, {'colsample_bytree': 0.4, 'learning_rate': 0.07, 'max_depth': 7, 'min_child_weight': 1.5, 'subsample': 0.6}, {'colsample_bytree': 0.4, 'learning_rate': 0.07, 'max_depth': 7, 'min_child_weight': 1.5, 'subsample': 0.95}, {'colsample_bytree': 0.4, 'learning_rate': 0.07, 'max_depth': 7, 'min_child_weight': 6, 'subsample': 0.6}, {'colsample_bytree': 0.4, 'learning_rate': 0.07, 'max_depth': 7, 'min_child_weight': 6, 'subsample': 0.95}, {'colsample_bytree': 0.4, 'learning_rate': 0.07, 'max_depth': 7, 'min_child_weight': 10, 'subsample': 0.6}, {'colsample_bytree': 0.4, 'learning_rate': 0.07, 'max_depth': 7, 'min_child_weight': 10, 'subsample': 0.95}, {'colsample_bytree': 0.4, 'learning_rate': 0.01, 'max_depth': 3, 'min_child_weight': 1.5, 'subsample': 0.6}, {'colsample_bytree': 0.4, 'learning_rate': 0.01, 'max_depth': 3, 'min_child_weight': 1.5, 'subsample': 0.95}, {'colsample_bytree': 0.4, 'learning_rate': 0.01, 'max_depth': 3, 'min_child_weight': 6, 'subsample': 0.6}, {'colsample_bytree': 0.4, 'learning_rate': 0.01, 'max_depth': 3, 'min_child_weight': 6, 'subsample': 0.95}, {'colsample_bytree': 0.4, 'learning_rate': 0.01, 'max_depth': 3, 'min_child_weight': 10, 'subsample': 0.6}, {'colsample_bytree': 0.4, 'learning_rate': 0.01, 'max_depth': 3, 'min_child_weight': 10, 'subsample': 0.95}, {'colsample_bytree': 0.4, 'learning_rate': 0.01, 'max_depth': 5, 'min_child_weight': 1.5, 'subsample': 0.6}, {'colsample_bytree': 0.4, 'learning_rate': 0.01, 'max_depth': 5, 'min_child_weight': 1.5, 'subsample': 0.95}, {'colsample_bytree': 0.4, 'learning_rate': 0.01, 'max_depth': 5, 'min_child_weight': 6, 'subsample': 0.6}, {'colsample_bytree': 0.4, 'learning_rate': 0.01, 'max_depth': 5, 'min_child_weight': 6, 'subsample': 0.95}, {'colsample_bytree': 0.4, 'learning_rate': 0.01, 'max_depth': 5, 'min_child_weight': 10, 'subsample': 0.6}, {'colsample_bytree': 0.4, 'learning_rate': 0.01, 'max_depth': 5, 'min_child_weight': 10, 'subsample': 0.95}, {'colsample_bytree': 0.4, 'learning_rate': 0.01, 'max_depth': 7, 'min_child_weight': 1.5, 'subsample': 0.6}, {'colsample_bytree': 0.4, 'learning_rate': 0.01, 'max_depth': 7, 'min_child_weight': 1.5, 'subsample': 0.95}, {'colsample_bytree': 0.4, 'learning_rate': 0.01, 'max_depth': 7, 'min_child_weight': 6, 'subsample': 0.6}, {'colsample_bytree': 0.4, 'learning_rate': 0.01, 'max_depth': 7, 'min_child_weight': 6, 'subsample': 0.95}, {'colsample_bytree': 0.4, 'learning_rate': 0.01, 'max_depth': 7, 'min_child_weight': 10, 'subsample': 0.6}, {'colsample_bytree': 0.4, 'learning_rate': 0.01, 'max_depth': 7, 'min_child_weight': 10, 'subsample': 0.95}, {'colsample_bytree': 0.6, 'learning_rate': 0.1, 'max_depth': 3, 'min_child_weight': 1.5, 'subsample': 0.6}, {'colsample_bytree': 0.6, 'learning_rate': 0.1, 'max_depth': 3, 'min_child_weight': 1.5, 'subsample': 0.95}, {'colsample_bytree': 0.6, 'learning_rate': 0.1, 'max_depth': 3, 'min_child_weight': 6, 'subsample': 0.6}, {'colsample_bytree': 0.6, 'learning_rate': 0.1, 'max_depth': 3, 'min_child_weight': 6, 'subsample': 0.95}, {'colsample_bytree': 0.6, 'learning_rate': 0.1, 'max_depth': 3, 'min_child_weight': 10, 'subsample': 0.6}, {'colsample_bytree': 0.6, 'learning_rate': 0.1, 'max_depth': 3, 'min_child_weight': 10, 'subsample': 0.95}, {'colsample_bytree': 0.6, 'learning_rate': 0.1, 'max_depth': 5, 'min_child_weight': 1.5, 'subsample': 0.6}, {'colsample_bytree': 0.6, 'learning_rate': 0.1, 'max_depth': 5, 'min_child_weight': 1.5, 'subsample': 0.95}, {'colsample_bytree': 0.6, 'learning_rate': 0.1, 'max_depth': 5, 'min_child_weight': 6, 'subsample': 0.6}, {'colsample_bytree': 0.6, 'learning_rate': 0.1, 'max_depth': 5, 'min_child_weight': 6, 'subsample': 0.95}, {'colsample_bytree': 0.6, 'learning_rate': 0.1, 'max_depth': 5, 'min_child_weight': 10, 'subsample': 0.6}, {'colsample_bytree': 0.6, 'learning_rate': 0.1, 'max_depth': 5, 'min_child_weight': 10, 'subsample': 0.95}, {'colsample_bytree': 0.6, 'learning_rate': 0.1, 'max_depth': 7, 'min_child_weight': 1.5, 'subsample': 0.6}, {'colsample_bytree': 0.6, 'learning_rate': 0.1, 'max_depth': 7, 'min_child_weight': 1.5, 'subsample': 0.95}, {'colsample_bytree': 0.6, 'learning_rate': 0.1, 'max_depth': 7, 'min_child_weight': 6, 'subsample': 0.6}, {'colsample_bytree': 0.6, 'learning_rate': 0.1, 'max_depth': 7, 'min_child_weight': 6, 'subsample': 0.95}, {'colsample_bytree': 0.6, 'learning_rate': 0.1, 'max_depth': 7, 'min_child_weight': 10, 'subsample': 0.6}, {'colsample_bytree': 0.6, 'learning_rate': 0.1, 'max_depth': 7, 'min_child_weight': 10, 'subsample': 0.95}, {'colsample_bytree': 0.6, 'learning_rate': 0.07, 'max_depth': 3, 'min_child_weight': 1.5, 'subsample': 0.6}, {'colsample_bytree': 0.6, 'learning_rate': 0.07, 'max_depth': 3, 'min_child_weight': 1.5, 'subsample': 0.95}, {'colsample_bytree': 0.6, 'learning_rate': 0.07, 'max_depth': 3, 'min_child_weight': 6, 'subsample': 0.6}, {'colsample_bytree': 0.6, 'learning_rate': 0.07, 'max_depth': 3, 'min_child_weight': 6, 'subsample': 0.95}, {'colsample_bytree': 0.6, 'learning_rate': 0.07, 'max_depth': 3, 'min_child_weight': 10, 'subsample': 0.6}, {'colsample_bytree': 0.6, 'learning_rate': 0.07, 'max_depth': 3, 'min_child_weight': 10, 'subsample': 0.95}, {'colsample_bytree': 0.6, 'learning_rate': 0.07, 'max_depth': 5, 'min_child_weight': 1.5, 'subsample': 0.6}, {'colsample_bytree': 0.6, 'learning_rate': 0.07, 'max_depth': 5, 'min_child_weight': 1.5, 'subsample': 0.95}, {'colsample_bytree': 0.6, 'learning_rate': 0.07, 'max_depth': 5, 'min_child_weight': 6, 'subsample': 0.6}, {'colsample_bytree': 0.6, 'learning_rate': 0.07, 'max_depth': 5, 'min_child_weight': 6, 'subsample': 0.95}, {'colsample_bytree': 0.6, 'learning_rate': 0.07, 'max_depth': 5, 'min_child_weight': 10, 'subsample': 0.6}, {'colsample_bytree': 0.6, 'learning_rate': 0.07, 'max_depth': 5, 'min_child_weight': 10, 'subsample': 0.95}, {'colsample_bytree': 0.6, 'learning_rate': 0.07, 'max_depth': 7, 'min_child_weight': 1.5, 'subsample': 0.6}, {'colsample_bytree': 0.6, 'learning_rate': 0.07, 'max_depth': 7, 'min_child_weight': 1.5, 'subsample': 0.95}, {'colsample_bytree': 0.6, 'learning_rate': 0.07, 'max_depth': 7, 'min_child_weight': 6, 'subsample': 0.6}, {'colsample_bytree': 0.6, 'learning_rate': 0.07, 'max_depth': 7, 'min_child_weight': 6, 'subsample': 0.95}, {'colsample_bytree': 0.6, 'learning_rate': 0.07, 'max_depth': 7, 'min_child_weight': 10, 'subsample': 0.6}, {'colsample_bytree': 0.6, 'learning_rate': 0.07, 'max_depth': 7, 'min_child_weight': 10, 'subsample': 0.95}, {'colsample_bytree': 0.6, 'learning_rate': 0.01, 'max_depth': 3, 'min_child_weight': 1.5, 'subsample': 0.6}, {'colsample_bytree': 0.6, 'learning_rate': 0.01, 'max_depth': 3, 'min_child_weight': 1.5, 'subsample': 0.95}, {'colsample_bytree': 0.6, 'learning_rate': 0.01, 'max_depth': 3, 'min_child_weight': 6, 'subsample': 0.6}, {'colsample_bytree': 0.6, 'learning_rate': 0.01, 'max_depth': 3, 'min_child_weight': 6, 'subsample': 0.95}, {'colsample_bytree': 0.6, 'learning_rate': 0.01, 'max_depth': 3, 'min_child_weight': 10, 'subsample': 0.6}, {'colsample_bytree': 0.6, 'learning_rate': 0.01, 'max_depth': 3, 'min_child_weight': 10, 'subsample': 0.95}, {'colsample_bytree': 0.6, 'learning_rate': 0.01, 'max_depth': 5, 'min_child_weight': 1.5, 'subsample': 0.6}, {'colsample_bytree': 0.6, 'learning_rate': 0.01, 'max_depth': 5, 'min_child_weight': 1.5, 'subsample': 0.95}, {'colsample_bytree': 0.6, 'learning_rate': 0.01, 'max_depth': 5, 'min_child_weight': 6, 'subsample': 0.6}, {'colsample_bytree': 0.6, 'learning_rate': 0.01, 'max_depth': 5, 'min_child_weight': 6, 'subsample': 0.95}, {'colsample_bytree': 0.6, 'learning_rate': 0.01, 'max_depth': 5, 'min_child_weight': 10, 'subsample': 0.6}, {'colsample_bytree': 0.6, 'learning_rate': 0.01, 'max_depth': 5, 'min_child_weight': 10, 'subsample': 0.95}, {'colsample_bytree': 0.6, 'learning_rate': 0.01, 'max_depth': 7, 'min_child_weight': 1.5, 'subsample': 0.6}, {'colsample_bytree': 0.6, 'learning_rate': 0.01, 'max_depth': 7, 'min_child_weight': 1.5, 'subsample': 0.95}, {'colsample_bytree': 0.6, 'learning_rate': 0.01, 'max_depth': 7, 'min_child_weight': 6, 'subsample': 0.6}, {'colsample_bytree': 0.6, 'learning_rate': 0.01, 'max_depth': 7, 'min_child_weight': 6, 'subsample': 0.95}, {'colsample_bytree': 0.6, 'learning_rate': 0.01, 'max_depth': 7, 'min_child_weight': 10, 'subsample': 0.6}, {'colsample_bytree': 0.6, 'learning_rate': 0.01, 'max_depth': 7, 'min_child_weight': 10, 'subsample': 0.95}, {'colsample_bytree': 0.8, 'learning_rate': 0.1, 'max_depth': 3, 'min_child_weight': 1.5, 'subsample': 0.6}, {'colsample_bytree': 0.8, 'learning_rate': 0.1, 'max_depth': 3, 'min_child_weight': 1.5, 'subsample': 0.95}, {'colsample_bytree': 0.8, 'learning_rate': 0.1, 'max_depth': 3, 'min_child_weight': 6, 'subsample': 0.6}, {'colsample_bytree': 0.8, 'learning_rate': 0.1, 'max_depth': 3, 'min_child_weight': 6, 'subsample': 0.95}, {'colsample_bytree': 0.8, 'learning_rate': 0.1, 'max_depth': 3, 'min_child_weight': 10, 'subsample': 0.6}, {'colsample_bytree': 0.8, 'learning_rate': 0.1, 'max_depth': 3, 'min_child_weight': 10, 'subsample': 0.95}, {'colsample_bytree': 0.8, 'learning_rate': 0.1, 'max_depth': 5, 'min_child_weight': 1.5, 'subsample': 0.6}, {'colsample_bytree': 0.8, 'learning_rate': 0.1, 'max_depth': 5, 'min_child_weight': 1.5, 'subsample': 0.95}, {'colsample_bytree': 0.8, 'learning_rate': 0.1, 'max_depth': 5, 'min_child_weight': 6, 'subsample': 0.6}, {'colsample_bytree': 0.8, 'learning_rate': 0.1, 'max_depth': 5, 'min_child_weight': 6, 'subsample': 0.95}, {'colsample_bytree': 0.8, 'learning_rate': 0.1, 'max_depth': 5, 'min_child_weight': 10, 'subsample': 0.6}, {'colsample_bytree': 0.8, 'learning_rate': 0.1, 'max_depth': 5, 'min_child_weight': 10, 'subsample': 0.95}, {'colsample_bytree': 0.8, 'learning_rate': 0.1, 'max_depth': 7, 'min_child_weight': 1.5, 'subsample': 0.6}, {'colsample_bytree': 0.8, 'learning_rate': 0.1, 'max_depth': 7, 'min_child_weight': 1.5, 'subsample': 0.95}, {'colsample_bytree': 0.8, 'learning_rate': 0.1, 'max_depth': 7, 'min_child_weight': 6, 'subsample': 0.6}, {'colsample_bytree': 0.8, 'learning_rate': 0.1, 'max_depth': 7, 'min_child_weight': 6, 'subsample': 0.95}, {'colsample_bytree': 0.8, 'learning_rate': 0.1, 'max_depth': 7, 'min_child_weight': 10, 'subsample': 0.6}, {'colsample_bytree': 0.8, 'learning_rate': 0.1, 'max_depth': 7, 'min_child_weight': 10, 'subsample': 0.95}, {'colsample_bytree': 0.8, 'learning_rate': 0.07, 'max_depth': 3, 'min_child_weight': 1.5, 'subsample': 0.6}, {'colsample_bytree': 0.8, 'learning_rate': 0.07, 'max_depth': 3, 'min_child_weight': 1.5, 'subsample': 0.95}, {'colsample_bytree': 0.8, 'learning_rate': 0.07, 'max_depth': 3, 'min_child_weight': 6, 'subsample': 0.6}, {'colsample_bytree': 0.8, 'learning_rate': 0.07, 'max_depth': 3, 'min_child_weight': 6, 'subsample': 0.95}, {'colsample_bytree': 0.8, 'learning_rate': 0.07, 'max_depth': 3, 'min_child_weight': 10, 'subsample': 0.6}, {'colsample_bytree': 0.8, 'learning_rate': 0.07, 'max_depth': 3, 'min_child_weight': 10, 'subsample': 0.95}, {'colsample_bytree': 0.8, 'learning_rate': 0.07, 'max_depth': 5, 'min_child_weight': 1.5, 'subsample': 0.6}, {'colsample_bytree': 0.8, 'learning_rate': 0.07, 'max_depth': 5, 'min_child_weight': 1.5, 'subsample': 0.95}, {'colsample_bytree': 0.8, 'learning_rate': 0.07, 'max_depth': 5, 'min_child_weight': 6, 'subsample': 0.6}, {'colsample_bytree': 0.8, 'learning_rate': 0.07, 'max_depth': 5, 'min_child_weight': 6, 'subsample': 0.95}, {'colsample_bytree': 0.8, 'learning_rate': 0.07, 'max_depth': 5, 'min_child_weight': 10, 'subsample': 0.6}, {'colsample_bytree': 0.8, 'learning_rate': 0.07, 'max_depth': 5, 'min_child_weight': 10, 'subsample': 0.95}, {'colsample_bytree': 0.8, 'learning_rate': 0.07, 'max_depth': 7, 'min_child_weight': 1.5, 'subsample': 0.6}, {'colsample_bytree': 0.8, 'learning_rate': 0.07, 'max_depth': 7, 'min_child_weight': 1.5, 'subsample': 0.95}, {'colsample_bytree': 0.8, 'learning_rate': 0.07, 'max_depth': 7, 'min_child_weight': 6, 'subsample': 0.6}, {'colsample_bytree': 0.8, 'learning_rate': 0.07, 'max_depth': 7, 'min_child_weight': 6, 'subsample': 0.95}, {'colsample_bytree': 0.8, 'learning_rate': 0.07, 'max_depth': 7, 'min_child_weight': 10, 'subsample': 0.6}, {'colsample_bytree': 0.8, 'learning_rate': 0.07, 'max_depth': 7, 'min_child_weight': 10, 'subsample': 0.95}, {'colsample_bytree': 0.8, 'learning_rate': 0.01, 'max_depth': 3, 'min_child_weight': 1.5, 'subsample': 0.6}, {'colsample_bytree': 0.8, 'learning_rate': 0.01, 'max_depth': 3, 'min_child_weight': 1.5, 'subsample': 0.95}, {'colsample_bytree': 0.8, 'learning_rate': 0.01, 'max_depth': 3, 'min_child_weight': 6, 'subsample': 0.6}, {'colsample_bytree': 0.8, 'learning_rate': 0.01, 'max_depth': 3, 'min_child_weight': 6, 'subsample': 0.95}, {'colsample_bytree': 0.8, 'learning_rate': 0.01, 'max_depth': 3, 'min_child_weight': 10, 'subsample': 0.6}, {'colsample_bytree': 0.8, 'learning_rate': 0.01, 'max_depth': 3, 'min_child_weight': 10, 'subsample': 0.95}, {'colsample_bytree': 0.8, 'learning_rate': 0.01, 'max_depth': 5, 'min_child_weight': 1.5, 'subsample': 0.6}, {'colsample_bytree': 0.8, 'learning_rate': 0.01, 'max_depth': 5, 'min_child_weight': 1.5, 'subsample': 0.95}, {'colsample_bytree': 0.8, 'learning_rate': 0.01, 'max_depth': 5, 'min_child_weight': 6, 'subsample': 0.6}, {'colsample_bytree': 0.8, 'learning_rate': 0.01, 'max_depth': 5, 'min_child_weight': 6, 'subsample': 0.95}, {'colsample_bytree': 0.8, 'learning_rate': 0.01, 'max_depth': 5, 'min_child_weight': 10, 'subsample': 0.6}, {'colsample_bytree': 0.8, 'learning_rate': 0.01, 'max_depth': 5, 'min_child_weight': 10, 'subsample': 0.95}, {'colsample_bytree': 0.8, 'learning_rate': 0.01, 'max_depth': 7, 'min_child_weight': 1.5, 'subsample': 0.6}, {'colsample_bytree': 0.8, 'learning_rate': 0.01, 'max_depth': 7, 'min_child_weight': 1.5, 'subsample': 0.95}, {'colsample_bytree': 0.8, 'learning_rate': 0.01, 'max_depth': 7, 'min_child_weight': 6, 'subsample': 0.6}, {'colsample_bytree': 0.8, 'learning_rate': 0.01, 'max_depth': 7, 'min_child_weight': 6, 'subsample': 0.95}, {'colsample_bytree': 0.8, 'learning_rate': 0.01, 'max_depth': 7, 'min_child_weight': 10, 'subsample': 0.6}, {'colsample_bytree': 0.8, 'learning_rate': 0.01, 'max_depth': 7, 'min_child_weight': 10, 'subsample': 0.95}], 'split0_test_score': array([-4.49510588e+08, -4.59062918e+08, -5.90615400e+08, -4.31964841e+08,\n",
      "       -5.40847549e+08, -5.01841408e+08, -4.96343835e+08, -4.57602647e+08,\n",
      "       -5.42306153e+08, -5.39932713e+08, -5.59870262e+08, -5.11517710e+08,\n",
      "       -5.43813317e+08, -4.95824846e+08, -6.04866754e+08, -5.47252600e+08,\n",
      "       -6.11388440e+08, -5.52191898e+08, -4.06118874e+08, -4.16408153e+08,\n",
      "       -4.96730039e+08, -4.37221671e+08, -5.14181839e+08, -4.90671432e+08,\n",
      "       -4.69304761e+08, -4.50787331e+08, -5.26688834e+08, -4.61766775e+08,\n",
      "       -5.39459428e+08, -5.01481102e+08, -4.89176052e+08, -4.73018401e+08,\n",
      "       -5.27311329e+08, -4.83473103e+08, -6.03707857e+08, -5.08174693e+08,\n",
      "       -4.63626281e+08, -4.63799591e+08, -5.09386169e+08, -4.92599481e+08,\n",
      "       -4.97683268e+08, -4.99982804e+08, -4.48597508e+08, -4.53901091e+08,\n",
      "       -4.61609295e+08, -4.71777330e+08, -4.77683678e+08, -4.93429875e+08,\n",
      "       -4.51130652e+08, -4.82125937e+08, -4.70428465e+08, -4.85394510e+08,\n",
      "       -4.73283066e+08, -5.00762997e+08, -4.54927923e+08, -4.56106178e+08,\n",
      "       -5.07246882e+08, -4.84905990e+08, -5.16785078e+08, -4.87190946e+08,\n",
      "       -4.63119025e+08, -5.02028969e+08, -5.46811992e+08, -4.96761893e+08,\n",
      "       -5.51842049e+08, -5.34984218e+08, -4.78085921e+08, -4.84675089e+08,\n",
      "       -5.49858996e+08, -5.05169763e+08, -5.22357438e+08, -5.04393925e+08,\n",
      "       -4.30027388e+08, -4.01037855e+08, -4.96203544e+08, -4.60824116e+08,\n",
      "       -5.05036608e+08, -4.91037065e+08, -4.59684617e+08, -4.47432228e+08,\n",
      "       -5.18278049e+08, -4.55547248e+08, -5.24942096e+08, -4.85997475e+08,\n",
      "       -4.99274874e+08, -4.67928396e+08, -5.23910418e+08, -4.79694310e+08,\n",
      "       -5.21934539e+08, -5.11375627e+08, -4.58550905e+08, -4.64818532e+08,\n",
      "       -5.04138497e+08, -4.87977955e+08, -4.95927460e+08, -5.25023467e+08,\n",
      "       -4.43358819e+08, -4.58109008e+08, -4.75013604e+08, -4.83665183e+08,\n",
      "       -4.74436321e+08, -5.03711051e+08, -4.49043146e+08, -4.84904909e+08,\n",
      "       -4.81980157e+08, -4.92298441e+08, -4.80555843e+08, -5.00445694e+08,\n",
      "       -4.63509592e+08, -4.92772922e+08, -4.97111810e+08, -4.88176077e+08,\n",
      "       -5.75542963e+08, -5.47541599e+08, -4.54346779e+08, -4.94038904e+08,\n",
      "       -5.58465843e+08, -5.18758745e+08, -5.20083627e+08, -5.35760087e+08,\n",
      "       -5.38574761e+08, -5.72700917e+08, -5.63629581e+08, -5.29268862e+08,\n",
      "       -5.36273437e+08, -5.50536386e+08, -4.53455228e+08, -4.69713635e+08,\n",
      "       -4.71367739e+08, -4.81541858e+08, -5.16503517e+08, -5.08992455e+08,\n",
      "       -4.88204469e+08, -4.73442540e+08, -5.05897722e+08, -4.70108252e+08,\n",
      "       -5.26105409e+08, -5.22249478e+08, -5.02985560e+08, -5.42021906e+08,\n",
      "       -5.76481628e+08, -5.03765060e+08, -5.32659284e+08, -5.23546025e+08,\n",
      "       -4.66443832e+08, -4.98543738e+08, -5.12608745e+08, -5.03442031e+08,\n",
      "       -5.07196573e+08, -5.40547923e+08, -4.52893089e+08, -4.99876719e+08,\n",
      "       -4.65794539e+08, -4.95092295e+08, -4.86536717e+08, -5.27764386e+08,\n",
      "       -4.68156454e+08, -5.26061233e+08, -4.73986027e+08, -5.13026680e+08,\n",
      "       -4.83357312e+08, -5.31306949e+08]), 'split1_test_score': array([-8.71240849e+08, -8.84077730e+08, -8.73101253e+08, -8.74316872e+08,\n",
      "       -8.76253311e+08, -8.13587023e+08, -8.55426027e+08, -8.63102606e+08,\n",
      "       -9.21792498e+08, -9.22585601e+08, -8.74567764e+08, -8.47765706e+08,\n",
      "       -8.42479738e+08, -8.98469618e+08, -9.79447501e+08, -9.13874299e+08,\n",
      "       -8.99639711e+08, -8.98611679e+08, -8.31024119e+08, -8.04554580e+08,\n",
      "       -9.03088436e+08, -9.00372908e+08, -8.47361565e+08, -8.21520015e+08,\n",
      "       -8.26975519e+08, -8.40014601e+08, -9.41806038e+08, -9.54754057e+08,\n",
      "       -8.37754768e+08, -8.46963965e+08, -8.60310288e+08, -8.93310803e+08,\n",
      "       -9.67197144e+08, -9.18171312e+08, -8.54760355e+08, -8.46800952e+08,\n",
      "       -8.90780185e+08, -9.04258362e+08, -9.21439370e+08, -9.25839495e+08,\n",
      "       -9.00536872e+08, -9.17024991e+08, -8.73940469e+08, -9.14855905e+08,\n",
      "       -8.96755420e+08, -8.93221421e+08, -8.86590916e+08, -8.98064456e+08,\n",
      "       -8.77681359e+08, -9.03786539e+08, -9.06234102e+08, -9.08200635e+08,\n",
      "       -8.94703601e+08, -9.05934813e+08, -9.13135921e+08, -8.30396813e+08,\n",
      "       -9.51659095e+08, -9.21058080e+08, -8.29306635e+08, -8.43334549e+08,\n",
      "       -9.22098459e+08, -8.38749035e+08, -9.31344124e+08, -9.29741621e+08,\n",
      "       -8.75831398e+08, -9.23297116e+08, -8.90436446e+08, -7.85860482e+08,\n",
      "       -1.02191213e+09, -1.01591391e+09, -8.92986613e+08, -9.45825029e+08,\n",
      "       -8.21418184e+08, -8.16906994e+08, -8.76160168e+08, -9.15086343e+08,\n",
      "       -8.69385707e+08, -8.71499399e+08, -8.38823787e+08, -8.69814403e+08,\n",
      "       -9.32247437e+08, -9.50641625e+08, -8.78461657e+08, -9.06520828e+08,\n",
      "       -8.39222623e+08, -8.78332001e+08, -9.80604652e+08, -1.00577698e+09,\n",
      "       -8.86554719e+08, -9.52466034e+08, -9.11191354e+08, -9.34162114e+08,\n",
      "       -9.31517564e+08, -9.41623231e+08, -8.83557998e+08, -9.26385107e+08,\n",
      "       -9.03172278e+08, -9.01117284e+08, -9.02510754e+08, -9.24259016e+08,\n",
      "       -8.81887125e+08, -9.03045319e+08, -9.02056984e+08, -9.28801293e+08,\n",
      "       -9.09213255e+08, -9.52294546e+08, -8.80563093e+08, -9.13511852e+08,\n",
      "       -9.18761563e+08, -9.18071108e+08, -9.02200385e+08, -9.20908471e+08,\n",
      "       -8.21351212e+08, -8.66317691e+08, -9.38582436e+08, -8.53393139e+08,\n",
      "       -1.03501659e+09, -9.33415603e+08, -8.63603765e+08, -9.13021565e+08,\n",
      "       -9.63997229e+08, -9.09973997e+08, -1.10387551e+09, -1.01475696e+09,\n",
      "       -9.21334232e+08, -9.61227649e+08, -8.82760113e+08, -8.98778111e+08,\n",
      "       -8.81656009e+08, -9.05641014e+08, -7.90458702e+08, -8.38874037e+08,\n",
      "       -8.73884713e+08, -8.63866654e+08, -9.27160718e+08, -9.48615196e+08,\n",
      "       -8.65918160e+08, -8.75727721e+08, -8.98799856e+08, -9.14850088e+08,\n",
      "       -1.02427111e+09, -9.84203324e+08, -8.89540334e+08, -9.26998205e+08,\n",
      "       -9.00618085e+08, -9.13993401e+08, -9.37893794e+08, -9.51219421e+08,\n",
      "       -8.82480068e+08, -9.39047522e+08, -9.03512536e+08, -8.89898617e+08,\n",
      "       -9.40548575e+08, -9.36675393e+08, -8.88532800e+08, -9.05078486e+08,\n",
      "       -8.88602177e+08, -9.17974298e+08, -9.48585807e+08, -9.61844882e+08,\n",
      "       -8.92780864e+08, -9.14520635e+08]), 'split2_test_score': array([-7.04952827e+08, -7.09337438e+08, -7.05238233e+08, -7.74280027e+08,\n",
      "       -7.35078045e+08, -7.13140606e+08, -7.28830019e+08, -7.21466686e+08,\n",
      "       -7.54820801e+08, -7.25329282e+08, -7.38015521e+08, -7.26912974e+08,\n",
      "       -7.53109327e+08, -7.49482793e+08, -7.95069340e+08, -7.59105319e+08,\n",
      "       -7.68455254e+08, -7.52293928e+08, -6.16486696e+08, -6.35920678e+08,\n",
      "       -6.45351947e+08, -7.27165908e+08, -7.18434782e+08, -7.45530650e+08,\n",
      "       -6.56524569e+08, -6.98090399e+08, -7.19489243e+08, -7.72953711e+08,\n",
      "       -7.12544129e+08, -7.50373150e+08, -6.76740558e+08, -7.26272507e+08,\n",
      "       -7.58662299e+08, -7.46397819e+08, -7.51816551e+08, -7.48724884e+08,\n",
      "       -7.65727500e+08, -7.69355868e+08, -8.28676760e+08, -7.71975189e+08,\n",
      "       -8.32543316e+08, -7.96235133e+08, -7.04084771e+08, -7.26303689e+08,\n",
      "       -7.83635241e+08, -7.24257527e+08, -8.14726942e+08, -7.39100565e+08,\n",
      "       -7.07621372e+08, -7.28282194e+08, -7.95477378e+08, -7.49173655e+08,\n",
      "       -8.07092013e+08, -7.50706256e+08, -7.17306493e+08, -7.52429787e+08,\n",
      "       -7.22414202e+08, -7.95264206e+08, -6.91563590e+08, -7.71738789e+08,\n",
      "       -7.61403854e+08, -7.19897033e+08, -7.35899794e+08, -6.99736021e+08,\n",
      "       -7.14716461e+08, -8.03403866e+08, -7.27820457e+08, -7.45568146e+08,\n",
      "       -7.61450004e+08, -7.15372942e+08, -7.76920909e+08, -7.75981477e+08,\n",
      "       -7.49544997e+08, -7.17170752e+08, -6.93764955e+08, -8.01117389e+08,\n",
      "       -6.63977117e+08, -7.61152044e+08, -6.10378163e+08, -7.43923673e+08,\n",
      "       -7.39226129e+08, -7.90873447e+08, -7.16528692e+08, -7.66227573e+08,\n",
      "       -6.14196248e+08, -7.69878862e+08, -7.97537100e+08, -7.98868349e+08,\n",
      "       -7.56957025e+08, -8.18942072e+08, -7.54829645e+08, -7.87356266e+08,\n",
      "       -8.26455538e+08, -8.31724743e+08, -8.40666081e+08, -8.36622788e+08,\n",
      "       -7.33621719e+08, -7.58058166e+08, -7.82574965e+08, -7.83024015e+08,\n",
      "       -7.81450442e+08, -7.99175217e+08, -7.29796188e+08, -7.39386942e+08,\n",
      "       -7.80717279e+08, -8.06898105e+08, -7.92580148e+08, -8.16517232e+08,\n",
      "       -6.93422773e+08, -7.30314620e+08, -6.96667547e+08, -7.31206634e+08,\n",
      "       -7.36155722e+08, -7.80760204e+08, -7.34988750e+08, -7.15781862e+08,\n",
      "       -7.32790785e+08, -7.24306193e+08, -8.11918844e+08, -7.45349358e+08,\n",
      "       -7.71690655e+08, -7.65161336e+08, -8.26574610e+08, -7.85691281e+08,\n",
      "       -7.87895816e+08, -8.38384654e+08, -6.79981542e+08, -7.27842068e+08,\n",
      "       -6.74651262e+08, -7.39293050e+08, -6.90418405e+08, -7.80756854e+08,\n",
      "       -7.21349960e+08, -7.79207180e+08, -7.09020171e+08, -7.57336772e+08,\n",
      "       -7.20953553e+08, -7.59644457e+08, -7.25057417e+08, -7.60528041e+08,\n",
      "       -7.55078151e+08, -7.77009618e+08, -7.44202681e+08, -8.42361049e+08,\n",
      "       -7.78290807e+08, -8.05576694e+08, -8.19708409e+08, -8.32518495e+08,\n",
      "       -8.27301056e+08, -8.39768454e+08, -7.23525132e+08, -7.83170547e+08,\n",
      "       -7.84108278e+08, -7.80380978e+08, -8.02637149e+08, -7.90518839e+08,\n",
      "       -7.24163307e+08, -7.59989116e+08, -7.87736239e+08, -8.06264542e+08,\n",
      "       -7.99497066e+08, -8.23791007e+08]), 'mean_test_score': array([-6.75234755e+08, -6.84159362e+08, -7.22984962e+08, -6.93520580e+08,\n",
      "       -7.17392969e+08, -6.76189679e+08, -6.93533294e+08, -6.80723979e+08,\n",
      "       -7.39639817e+08, -7.29282532e+08, -7.24151182e+08, -6.95398797e+08,\n",
      "       -7.13134127e+08, -7.14592419e+08, -7.93127865e+08, -7.40077406e+08,\n",
      "       -7.59827801e+08, -7.34365835e+08, -6.17876563e+08, -6.18961137e+08,\n",
      "       -6.81723474e+08, -6.88253496e+08, -6.93326062e+08, -6.85907366e+08,\n",
      "       -6.50934950e+08, -6.62964111e+08, -7.29328039e+08, -7.29824848e+08,\n",
      "       -6.96586108e+08, -6.99606072e+08, -6.75408966e+08, -6.97533904e+08,\n",
      "       -7.51056924e+08, -7.16014078e+08, -7.36761588e+08, -7.01233509e+08,\n",
      "       -7.06711322e+08, -7.12471274e+08, -7.53167433e+08, -7.30138055e+08,\n",
      "       -7.43587819e+08, -7.37747642e+08, -6.75540916e+08, -6.98353562e+08,\n",
      "       -7.13999985e+08, -6.96418759e+08, -7.26333845e+08, -7.10198299e+08,\n",
      "       -6.78811128e+08, -7.04731557e+08, -7.24046648e+08, -7.14256266e+08,\n",
      "       -7.25026227e+08, -7.19134689e+08, -6.95123446e+08, -6.79644259e+08,\n",
      "       -7.27106726e+08, -7.33742759e+08, -6.79218434e+08, -7.00754761e+08,\n",
      "       -7.15540446e+08, -6.86891679e+08, -7.38018637e+08, -7.08746512e+08,\n",
      "       -7.14129969e+08, -7.53895067e+08, -6.98780941e+08, -6.72034573e+08,\n",
      "       -7.77740378e+08, -7.45485538e+08, -7.30754987e+08, -7.42066810e+08,\n",
      "       -6.66996856e+08, -6.45038533e+08, -6.88709556e+08, -7.25675949e+08,\n",
      "       -6.79466478e+08, -7.07896169e+08, -6.36295522e+08, -6.87056768e+08,\n",
      "       -7.29917205e+08, -7.32354107e+08, -7.06644148e+08, -7.19581958e+08,\n",
      "       -6.50897915e+08, -7.05379753e+08, -7.67350723e+08, -7.61446546e+08,\n",
      "       -7.21815428e+08, -7.60927911e+08, -7.08190635e+08, -7.28778971e+08,\n",
      "       -7.54037200e+08, -7.53775310e+08, -7.40050513e+08, -7.62677121e+08,\n",
      "       -6.93384272e+08, -7.05761486e+08, -7.20033108e+08, -7.30316071e+08,\n",
      "       -7.12591296e+08, -7.35310529e+08, -6.93632106e+08, -7.17697715e+08,\n",
      "       -7.23970231e+08, -7.50497031e+08, -7.17899695e+08, -7.43491593e+08,\n",
      "       -6.91897976e+08, -7.13719550e+08, -6.98659914e+08, -7.13430394e+08,\n",
      "       -7.11016632e+08, -7.31539832e+08, -7.09305988e+08, -6.87737968e+08,\n",
      "       -7.75424405e+08, -7.25493514e+08, -7.31868745e+08, -7.31377003e+08,\n",
      "       -7.58087548e+08, -7.49278750e+08, -8.31359899e+08, -7.76572369e+08,\n",
      "       -7.48501162e+08, -7.83382896e+08, -6.72065628e+08, -6.98777938e+08,\n",
      "       -6.75891670e+08, -7.08825307e+08, -6.65793541e+08, -7.09541115e+08,\n",
      "       -6.94479714e+08, -7.05505458e+08, -7.14026204e+08, -7.25353406e+08,\n",
      "       -7.04325707e+08, -7.19207219e+08, -7.08947611e+08, -7.39133345e+08,\n",
      "       -7.85276962e+08, -7.54992667e+08, -7.22134100e+08, -7.64301760e+08,\n",
      "       -7.15117575e+08, -7.39371278e+08, -7.56736982e+08, -7.62393316e+08,\n",
      "       -7.38992566e+08, -7.73121300e+08, -6.93310252e+08, -7.24315294e+08,\n",
      "       -7.30150464e+08, -7.37382889e+08, -7.25902222e+08, -7.41120570e+08,\n",
      "       -6.93640646e+08, -7.34674882e+08, -7.36769358e+08, -7.60378702e+08,\n",
      "       -7.25211748e+08, -7.56539530e+08]), 'std_test_score': array([1.73448313e+08, 1.74422570e+08, 1.16005098e+08, 1.89403267e+08,\n",
      "       1.37498674e+08, 1.29923979e+08, 1.48704179e+08, 1.68032795e+08,\n",
      "       1.55296100e+08, 1.56242396e+08, 1.28848217e+08, 1.39069614e+08,\n",
      "       1.25163680e+08, 1.66220149e+08, 1.52928112e+08, 1.50276221e+08,\n",
      "       1.17836111e+08, 1.41992320e+08, 1.73469624e+08, 1.58913250e+08,\n",
      "       1.67876845e+08, 1.91072236e+08, 1.37173900e+08, 1.41495343e+08,\n",
      "       1.46071959e+08, 1.60830882e+08, 1.69613629e+08, 2.03558655e+08,\n",
      "       1.22300235e+08, 1.45539397e+08, 1.51517843e+08, 1.72782824e+08,\n",
      "       1.79663136e+08, 1.78760570e+08, 1.03043124e+08, 1.42263860e+08,\n",
      "       1.79308480e+08, 1.84260459e+08, 1.76490234e+08, 1.79326493e+08,\n",
      "       1.76082494e+08, 1.75207755e+08, 1.74814611e+08, 1.89218995e+08,\n",
      "       1.84345399e+08, 1.73176265e+08, 1.78253166e+08, 1.66450777e+08,\n",
      "       1.75326170e+08, 1.72945830e+08, 1.84947560e+08, 1.74366803e+08,\n",
      "       1.81567089e+08, 1.66910401e+08, 1.87719130e+08, 1.61238270e+08,\n",
      "       1.81460866e+08, 1.83295440e+08, 1.27884670e+08, 1.53815074e+08,\n",
      "       1.90163297e+08, 1.39432458e+08, 1.56991735e+08, 1.76878024e+08,\n",
      "       1.32268748e+08, 1.62347503e+08, 1.69589129e+08, 1.33500437e+08,\n",
      "       1.93058839e+08, 2.09594803e+08, 1.54790106e+08, 1.81802106e+08,\n",
      "       1.70112385e+08, 1.77273946e+08, 1.55157827e+08, 1.92971675e+08,\n",
      "       1.49147593e+08, 1.59822898e+08, 1.55864064e+08, 1.77063188e+08,\n",
      "       1.69130434e+08, 2.06313670e+08, 1.44492902e+08, 1.74817682e+08,\n",
      "       1.41188709e+08, 1.73643084e+08, 1.87662496e+08, 2.16396299e+08,\n",
      "       1.50915358e+08, 1.84687879e+08, 1.87709425e+08, 1.96034562e+08,\n",
      "       1.81836059e+08, 1.93228008e+08, 1.73506922e+08, 1.71995664e+08,\n",
      "       1.89862044e+08, 1.84599188e+08, 1.80040859e+08, 1.83692364e+08,\n",
      "       1.73320947e+08, 1.69166561e+08, 1.86701660e+08, 1.81867749e+08,\n",
      "       1.78973370e+08, 1.91980754e+08, 1.71628140e+08, 1.76362261e+08,\n",
      "       1.85858966e+08, 1.74023339e+08, 1.65382719e+08, 1.77108869e+08,\n",
      "       1.01913049e+08, 1.34713357e+08, 1.98520773e+08, 1.48039885e+08,\n",
      "       1.96872839e+08, 1.69285035e+08, 1.51233892e+08, 1.54332921e+08,\n",
      "       1.73944153e+08, 1.38148411e+08, 2.20580430e+08, 1.98304547e+08,\n",
      "       1.59649424e+08, 1.72115704e+08, 1.75352345e+08, 1.76366331e+08,\n",
      "       1.67501781e+08, 1.74472990e+08, 1.13189071e+08, 1.43780448e+08,\n",
      "       1.58595545e+08, 1.67693580e+08, 1.72016324e+08, 1.96654394e+08,\n",
      "       1.39225334e+08, 1.47112417e+08, 1.61991530e+08, 1.52956449e+08,\n",
      "       1.84052222e+08, 1.96754993e+08, 1.46529378e+08, 1.73711168e+08,\n",
      "       1.82793077e+08, 1.75948806e+08, 1.79240794e+08, 1.89410143e+08,\n",
      "       1.65445293e+08, 1.69375057e+08, 1.85201108e+08, 1.64574655e+08,\n",
      "       1.97537225e+08, 1.82821470e+08, 1.72851380e+08, 1.57948566e+08,\n",
      "       1.72997835e+08, 1.60996005e+08, 1.97077743e+08, 1.86079871e+08,\n",
      "       1.75205865e+08, 1.63514022e+08]), 'rank_test_score': array([ 12,  23,  89,  34,  80,  16,  35,  21, 127, 103,  92,  40,  69,\n",
      "        76, 161, 129, 147, 116,   1,   2,  22,  28,  32,  24,   6,   7,\n",
      "       104, 105,  42,  48,  13,  43, 138,  79, 119,  50,  57,  67, 139,\n",
      "       107, 133, 122,  14,  44,  72,  41, 100,  65,  17,  52,  91,  75,\n",
      "        94,  83,  39,  20, 101, 115,  18,  49,  78,  25, 123,  60,  74,\n",
      "       141,  47,  10, 158, 134, 110, 131,   9,   4,  29,  98,  19,  58,\n",
      "         3,  26, 106, 114,  56,  85,   5,  53, 154, 150,  87, 149,  59,\n",
      "       102, 142, 140, 128, 152,  33,  55,  86, 109,  68, 118,  36,  81,\n",
      "        90, 137,  82, 132,  30,  71,  45,  70,  66, 112,  63,  27, 156,\n",
      "        97, 113, 111, 146, 136, 162, 157, 135, 159,  11,  46,  15,  61,\n",
      "         8,  64,  38,  54,  73,  96,  51,  84,  62, 125, 160, 143,  88,\n",
      "       153,  77, 126, 145, 151, 124, 155,  31,  93, 108, 121,  99, 130,\n",
      "        37, 117, 120, 148,  95, 144], dtype=int32), 'split0_train_score': array([-6.80311959e+06, -6.71670896e+06, -1.34590132e+07, -1.16604752e+07,\n",
      "       -2.32391273e+07, -1.54783405e+07, -1.57924029e+04, -9.55016554e+03,\n",
      "       -2.23021079e+05, -1.08194731e+05, -1.08729173e+06, -4.37517935e+05,\n",
      "       -6.35314937e+00, -3.44946709e-01, -2.61854325e+04, -6.11160603e+02,\n",
      "       -3.85670179e+05, -2.19614243e+04, -1.74573104e+07, -1.73126962e+07,\n",
      "       -3.12615351e+07, -2.50313373e+07, -4.54899701e+07, -3.51762233e+07,\n",
      "       -1.56520441e+05, -1.45016098e+05, -1.33599235e+06, -6.52673104e+05,\n",
      "       -5.58376268e+06, -2.15303027e+06, -6.69829748e+02, -1.25521427e+02,\n",
      "       -1.90923162e+05, -1.77882290e+04, -2.26440046e+06, -2.41563497e+05,\n",
      "       -2.14751545e+08, -2.01196059e+08, -3.05356183e+08, -2.45843822e+08,\n",
      "       -3.83049741e+08, -2.92890230e+08, -7.98252622e+07, -5.32198915e+07,\n",
      "       -1.72637318e+08, -1.02957525e+08, -2.70445292e+08, -1.61624450e+08,\n",
      "       -3.21597949e+07, -1.26989585e+07, -1.19451575e+08, -5.31205479e+07,\n",
      "       -2.24969642e+08, -1.09436540e+08, -6.26565186e+06, -6.03460928e+06,\n",
      "       -1.13362553e+07, -9.55749629e+06, -1.79377062e+07, -1.47844854e+07,\n",
      "       -9.76595334e+03, -7.83311869e+03, -1.04736971e+05, -6.13153088e+04,\n",
      "       -6.42689261e+05, -3.13525218e+05, -1.96938946e+00, -1.53663863e-01,\n",
      "       -7.86254631e+03, -3.54922386e+02, -2.68183314e+05, -1.01102952e+04,\n",
      "       -1.51362368e+07, -1.54159073e+07, -2.70630243e+07, -2.36303779e+07,\n",
      "       -3.92977874e+07, -3.05096342e+07, -9.57350616e+04, -8.98640910e+04,\n",
      "       -8.16423174e+05, -4.55713479e+05, -3.85188120e+06, -1.61212319e+06,\n",
      "       -1.39458441e+02, -4.89050343e+01, -1.32487013e+05, -9.37222844e+03,\n",
      "       -1.97184258e+06, -1.38360842e+05, -2.11972413e+08, -1.93012597e+08,\n",
      "       -2.89004151e+08, -2.39224688e+08, -3.73338404e+08, -2.77020366e+08,\n",
      "       -7.53373389e+07, -4.91025951e+07, -1.63477834e+08, -9.84002884e+07,\n",
      "       -2.60867288e+08, -1.51812235e+08, -3.01185985e+07, -1.13028027e+07,\n",
      "       -1.11054097e+08, -4.96377654e+07, -2.15594254e+08, -1.04078867e+08,\n",
      "       -5.28641949e+06, -5.09989147e+06, -9.88289589e+06, -8.21956762e+06,\n",
      "       -1.56757430e+07, -1.16318020e+07, -4.03112442e+03, -4.05531389e+03,\n",
      "       -7.67903485e+04, -5.10879858e+04, -4.95241900e+05, -2.07736616e+05,\n",
      "       -2.46586218e-01, -3.76100766e-02, -1.03384337e+04, -1.48306435e+02,\n",
      "       -2.96773431e+05, -7.64865405e+03, -1.38616396e+07, -1.40246376e+07,\n",
      "       -2.51757561e+07, -2.18582815e+07, -3.56798971e+07, -2.80130310e+07,\n",
      "       -6.46313946e+04, -7.06945296e+04, -6.85444473e+05, -3.59051059e+05,\n",
      "       -3.50962651e+06, -1.14635989e+06, -6.97434345e+01, -4.11551822e+01,\n",
      "       -1.79218907e+05, -8.31679437e+03, -2.07698167e+06, -1.08458104e+05,\n",
      "       -2.08285145e+08, -1.89802889e+08, -2.83393175e+08, -2.36340703e+08,\n",
      "       -3.65450243e+08, -2.75606084e+08, -7.27346473e+07, -4.65126092e+07,\n",
      "       -1.52462940e+08, -9.22259996e+07, -2.56164158e+08, -1.46961883e+08,\n",
      "       -2.86607477e+07, -1.00365149e+07, -1.00423583e+08, -4.53338028e+07,\n",
      "       -2.07760082e+08, -1.00050070e+08]), 'split1_train_score': array([-6.36538193e+06, -6.29108557e+06, -1.05443740e+07, -9.46253197e+06,\n",
      "       -2.01861377e+07, -1.38090627e+07, -2.26755379e+04, -1.46453570e+04,\n",
      "       -2.15134695e+05, -8.93073283e+04, -1.31937318e+06, -3.41439105e+05,\n",
      "       -2.12648752e+02, -5.28294787e+00, -5.38487192e+04, -3.35849909e+03,\n",
      "       -6.48481783e+05, -2.62251962e+04, -1.55915201e+07, -1.49243154e+07,\n",
      "       -2.62782167e+07, -2.13843892e+07, -4.36315145e+07, -2.74522872e+07,\n",
      "       -1.83737174e+05, -1.51198035e+05, -1.61565086e+06, -6.32115080e+05,\n",
      "       -8.11149988e+06, -1.60909351e+06, -4.02807156e+03, -5.64817984e+02,\n",
      "       -4.44443804e+05, -3.16457896e+04, -3.37665767e+06, -1.46653200e+05,\n",
      "       -1.97558233e+08, -1.79000967e+08, -2.53988748e+08, -2.13974610e+08,\n",
      "       -3.06100735e+08, -2.50414779e+08, -8.10775174e+07, -5.20875905e+07,\n",
      "       -1.45953449e+08, -9.01177605e+07, -2.12108364e+08, -1.37240698e+08,\n",
      "       -3.55636571e+07, -1.71550202e+07, -1.03388706e+08, -5.35730454e+07,\n",
      "       -1.71197449e+08, -9.94234556e+07, -5.15620969e+06, -5.22234585e+06,\n",
      "       -9.05229772e+06, -8.16604505e+06, -1.53108335e+07, -1.12335939e+07,\n",
      "       -1.34057537e+04, -9.50915287e+03, -1.48986625e+05, -7.60256676e+04,\n",
      "       -1.01214734e+06, -1.92053113e+05, -3.66624018e+01, -1.55400852e+00,\n",
      "       -4.01518931e+04, -3.69933202e+03, -4.30608098e+05, -1.70369146e+04,\n",
      "       -1.27334079e+07, -1.33910589e+07, -2.01218509e+07, -1.90736038e+07,\n",
      "       -3.92551284e+07, -2.59132405e+07, -1.16683586e+05, -1.21243987e+05,\n",
      "       -9.57356553e+05, -4.54769493e+05, -6.27332697e+06, -1.22752886e+06,\n",
      "       -1.40045163e+03, -2.61041642e+02, -3.96583434e+05, -2.49174584e+04,\n",
      "       -2.80294843e+06, -1.20450653e+05, -1.94147144e+08, -1.75960546e+08,\n",
      "       -2.48793637e+08, -2.10762154e+08, -2.99990080e+08, -2.42526952e+08,\n",
      "       -7.82529647e+07, -4.86452008e+07, -1.36390082e+08, -8.76268810e+07,\n",
      "       -2.03162582e+08, -1.31271439e+08, -3.24086172e+07, -1.61601411e+07,\n",
      "       -9.59472624e+07, -4.98700983e+07, -1.65344224e+08, -9.31973956e+07,\n",
      "       -4.47082919e+06, -4.86441930e+06, -8.41168570e+06, -6.89473811e+06,\n",
      "       -1.47306458e+07, -1.01750479e+07, -1.03612046e+04, -7.49886083e+03,\n",
      "       -1.14354576e+05, -5.34027672e+04, -8.10549540e+05, -1.64337984e+05,\n",
      "       -1.42249716e+01, -3.66353802e-01, -4.60667979e+04, -3.42422563e+03,\n",
      "       -3.99147354e+05, -1.68502449e+04, -1.14913064e+07, -1.29630702e+07,\n",
      "       -1.97294061e+07, -1.69818168e+07, -3.47095863e+07, -2.28175302e+07,\n",
      "       -9.03801114e+04, -1.13335996e+05, -8.35711997e+05, -3.58721811e+05,\n",
      "       -5.74878413e+06, -1.00474796e+06, -6.32560952e+02, -2.05349031e+02,\n",
      "       -3.30282015e+05, -2.41832083e+04, -2.35448710e+06, -1.21036620e+05,\n",
      "       -1.96035552e+08, -1.75209028e+08, -2.50082065e+08, -2.08182523e+08,\n",
      "       -2.93083844e+08, -2.43343891e+08, -7.60214921e+07, -4.67506205e+07,\n",
      "       -1.32906949e+08, -8.17462227e+07, -1.96454625e+08, -1.27260606e+08,\n",
      "       -3.06570295e+07, -1.46601304e+07, -9.07985429e+07, -4.73790098e+07,\n",
      "       -1.60251664e+08, -8.87870441e+07]), 'split2_train_score': array([-7.14111965e+06, -6.42528195e+06, -1.44784847e+07, -1.09912584e+07,\n",
      "       -2.39158118e+07, -1.75916783e+07, -1.21707640e+04, -9.07067499e+03,\n",
      "       -1.65249478e+05, -8.91689333e+04, -1.51701635e+06, -3.50191157e+05,\n",
      "       -5.45760900e+00, -7.05250922e-01, -3.67658517e+04, -4.34960865e+02,\n",
      "       -5.08677004e+05, -1.39434800e+04, -1.67073401e+07, -1.54923599e+07,\n",
      "       -2.94549335e+07, -2.57221172e+07, -4.85140409e+07, -3.50521605e+07,\n",
      "       -1.46215245e+05, -1.29472021e+05, -1.25215296e+06, -7.68079251e+05,\n",
      "       -8.45174774e+06, -2.38300237e+06, -6.61815070e+02, -1.99490252e+02,\n",
      "       -4.31296332e+05, -1.61469110e+04, -3.01868945e+06, -2.70765210e+05,\n",
      "       -2.34970652e+08, -2.02446353e+08, -2.95728396e+08, -2.43071518e+08,\n",
      "       -3.46446298e+08, -2.77809852e+08, -9.35293985e+07, -5.77842938e+07,\n",
      "       -1.74664051e+08, -1.02020077e+08, -2.37704960e+08, -1.53688679e+08,\n",
      "       -4.02995107e+07, -1.76062371e+07, -1.26488279e+08, -5.81221659e+07,\n",
      "       -1.88969602e+08, -1.11947994e+08, -5.48202644e+06, -5.50002327e+06,\n",
      "       -1.17465790e+07, -9.81824486e+06, -1.84451451e+07, -1.45996792e+07,\n",
      "       -4.67686178e+03, -4.01364818e+03, -1.32269159e+05, -5.11434347e+04,\n",
      "       -1.01285965e+06, -3.06471191e+05, -1.57375768e+00, -2.84513125e-01,\n",
      "       -3.61196574e+04, -1.36438424e+02, -4.30071898e+05, -7.09762625e+03,\n",
      "       -1.46981467e+07, -1.36308976e+07, -2.56498216e+07, -2.21551730e+07,\n",
      "       -4.37458691e+07, -2.96052328e+07, -8.26240894e+04, -9.07743316e+04,\n",
      "       -1.02443527e+06, -5.40934465e+05, -7.57264041e+06, -1.81571919e+06,\n",
      "       -2.23535370e+02, -8.27158067e+01, -4.48976651e+05, -1.10989467e+04,\n",
      "       -2.87844948e+06, -2.82331959e+05, -2.24126418e+08, -1.99399747e+08,\n",
      "       -2.81300196e+08, -2.35421977e+08, -3.28828456e+08, -2.68544867e+08,\n",
      "       -8.94549942e+07, -5.29150195e+07, -1.67413468e+08, -9.77311669e+07,\n",
      "       -2.26774614e+08, -1.45473754e+08, -3.84694013e+07, -1.52247630e+07,\n",
      "       -1.19272876e+08, -5.45940099e+07, -1.81136984e+08, -1.03904866e+08,\n",
      "       -4.88828573e+06, -5.48666199e+06, -1.00615046e+07, -8.06716476e+06,\n",
      "       -1.66762239e+07, -1.30443504e+07, -3.16875049e+03, -2.83790512e+03,\n",
      "       -1.27748032e+05, -3.74717860e+04, -9.48333213e+05, -1.87775775e+05,\n",
      "       -3.74025975e-01, -8.15100543e-02, -3.05507308e+04, -1.81562171e+02,\n",
      "       -3.60865088e+05, -7.28491601e+03, -1.32577101e+07, -1.31588303e+07,\n",
      "       -2.36113226e+07, -2.09243735e+07, -3.93260483e+07, -3.16902651e+07,\n",
      "       -6.74312182e+04, -7.65599146e+04, -8.35740069e+05, -5.00542115e+05,\n",
      "       -6.63872283e+06, -1.46779870e+06, -1.09320663e+02, -4.48650990e+01,\n",
      "       -3.69017102e+05, -1.05936552e+04, -2.65888456e+06, -5.12553607e+05,\n",
      "       -2.19165084e+08, -1.94778649e+08, -2.79431699e+08, -2.30809857e+08,\n",
      "       -3.24519428e+08, -2.65770273e+08, -8.65386963e+07, -5.08223733e+07,\n",
      "       -1.57191112e+08, -9.36594986e+07, -2.19410698e+08, -1.41059744e+08,\n",
      "       -3.64582917e+07, -1.47438067e+07, -1.12811454e+08, -5.13383085e+07,\n",
      "       -1.74722892e+08, -9.87479051e+07]), 'mean_train_score': array([-6.76987372e+06, -6.47769216e+06, -1.28272906e+07, -1.07047552e+07,\n",
      "       -2.24470256e+07, -1.56263605e+07, -1.68795683e+04, -1.10887325e+04,\n",
      "       -2.01135084e+05, -9.55569976e+04, -1.30789375e+06, -3.76382733e+05,\n",
      "       -7.48198366e+01, -2.11104850e+00, -3.89333345e+04, -1.46820685e+03,\n",
      "       -5.14276322e+05, -2.07100335e+04, -1.65853902e+07, -1.59097905e+07,\n",
      "       -2.89982284e+07, -2.40459479e+07, -4.58785085e+07, -3.25602236e+07,\n",
      "       -1.62157620e+05, -1.41895385e+05, -1.40126539e+06, -6.84289145e+05,\n",
      "       -7.38233677e+06, -2.04837538e+06, -1.78657212e+03, -2.96609888e+02,\n",
      "       -3.55554433e+05, -2.18603099e+04, -2.88658253e+06, -2.19660636e+05,\n",
      "       -2.15760143e+08, -1.94214460e+08, -2.85024442e+08, -2.34296650e+08,\n",
      "       -3.45198925e+08, -2.73704954e+08, -8.48107260e+07, -5.43639253e+07,\n",
      "       -1.64418273e+08, -9.83651209e+07, -2.40086205e+08, -1.50851276e+08,\n",
      "       -3.60076542e+07, -1.58200719e+07, -1.16442854e+08, -5.49385864e+07,\n",
      "       -1.95045564e+08, -1.06935997e+08, -5.63462933e+06, -5.58565947e+06,\n",
      "       -1.07117107e+07, -9.18059540e+06, -1.72312283e+07, -1.35392528e+07,\n",
      "       -9.28285628e+03, -7.11863991e+03, -1.28664252e+05, -6.28281370e+04,\n",
      "       -8.89232084e+05, -2.70683174e+05, -1.34018496e+01, -6.64061837e-01,\n",
      "       -2.80446989e+04, -1.39689761e+03, -3.76287770e+05, -1.14149453e+04,\n",
      "       -1.41892638e+07, -1.41459546e+07, -2.42782323e+07, -2.16197182e+07,\n",
      "       -4.07662616e+07, -2.86760358e+07, -9.83475789e+04, -1.00627470e+05,\n",
      "       -9.32738331e+05, -4.83805812e+05, -5.89928286e+06, -1.55179041e+06,\n",
      "       -5.87815147e+02, -1.30887494e+02, -3.26015699e+05, -1.51295445e+04,\n",
      "       -2.55108016e+06, -1.80381151e+05, -2.10081992e+08, -1.89457630e+08,\n",
      "       -2.73032662e+08, -2.28469606e+08, -3.34052313e+08, -2.62697395e+08,\n",
      "       -8.10150993e+07, -5.02209385e+07, -1.55760461e+08, -9.45861121e+07,\n",
      "       -2.30268161e+08, -1.42852476e+08, -3.36655390e+07, -1.42292356e+07,\n",
      "       -1.08758079e+08, -5.13672912e+07, -1.87358487e+08, -1.00393710e+08,\n",
      "       -4.88184480e+06, -5.15032426e+06, -9.45202873e+06, -7.72715683e+06,\n",
      "       -1.56942042e+07, -1.16170668e+07, -5.85369318e+03, -4.79735995e+03,\n",
      "       -1.06297652e+05, -4.73208463e+04, -7.51374884e+05, -1.86616792e+05,\n",
      "       -4.94852794e+00, -1.61824644e-01, -2.89853208e+04, -1.25136474e+03,\n",
      "       -3.52261958e+05, -1.05946050e+04, -1.28702187e+07, -1.33821793e+07,\n",
      "       -2.28388283e+07, -1.99214906e+07, -3.65718439e+07, -2.75069421e+07,\n",
      "       -7.41475747e+04, -8.68634801e+04, -7.85632180e+05, -4.06104995e+05,\n",
      "       -5.29904449e+06, -1.20630219e+06, -2.70541683e+02, -9.71231040e+01,\n",
      "       -2.92839341e+05, -1.43645526e+04, -2.36345111e+06, -2.47349444e+05,\n",
      "       -2.07828594e+08, -1.86596855e+08, -2.70968980e+08, -2.25111028e+08,\n",
      "       -3.27684505e+08, -2.61573416e+08, -7.84316119e+07, -4.80285344e+07,\n",
      "       -1.47520334e+08, -8.92105736e+07, -2.24009827e+08, -1.38427411e+08,\n",
      "       -3.19253563e+07, -1.31468173e+07, -1.01344527e+08, -4.80170404e+07,\n",
      "       -1.80911546e+08, -9.58616732e+07]), 'std_train_score': array([3.17564922e+05, 1.77668117e+05, 1.66705563e+06, 9.19891898e+05,\n",
      "       1.62238217e+06, 1.54778928e+06, 4.35691138e+03, 2.52252006e+03,\n",
      "       2.55783935e+04, 8.93640571e+03, 1.75622030e+05, 4.33765246e+04,\n",
      "       9.74604461e+01, 2.24768977e+00, 1.13970126e+04, 1.33857266e+03,\n",
      "       1.07365417e+05, 5.09147143e+03, 7.66571275e+05, 1.01874987e+06,\n",
      "       2.05990294e+06, 1.90301781e+06, 2.01212781e+06, 3.61221162e+06,\n",
      "       1.58283948e+04, 9.13998750e+03, 1.55409370e+05, 5.98400342e+04,\n",
      "       1.27934715e+06, 3.24497783e+05, 1.58498282e+03, 1.92040853e+02,\n",
      "       1.16535561e+05, 6.95174756e+03, 4.63586172e+05, 5.29826969e+04,\n",
      "       1.52901980e+07, 1.07696662e+07, 2.22947572e+07, 1.44143538e+07,\n",
      "       3.14266804e+07, 1.75817827e+07, 6.18619288e+06, 2.46234535e+06,\n",
      "       1.30827928e+07, 5.84430879e+06, 2.38753995e+07, 1.01548016e+07,\n",
      "       3.33782297e+06, 2.21463481e+06, 9.66736335e+06, 2.25869760e+06,\n",
      "       2.23688796e+07, 5.41020981e+06, 4.65604418e+05, 3.37088655e+05,\n",
      "       1.18527911e+06, 7.25250191e+05, 1.37363525e+06, 1.63209185e+06,\n",
      "       3.57989066e+03, 2.29971055e+03, 1.82438023e+04, 1.02142993e+04,\n",
      "       1.74332345e+05, 5.56743786e+04, 1.64484872e+01, 6.31550584e-01,\n",
      "       1.43655652e+04, 1.63050851e+03, 7.64417074e+04, 4.16124558e+03,\n",
      "       1.04486620e+06, 9.03314476e+05, 2.99509768e+06, 1.89843468e+06,\n",
      "       2.10697262e+06, 1.98817576e+06, 1.40269088e+04, 1.45828143e+04,\n",
      "       8.66864088e+04, 4.03978962e+04, 1.54184824e+06, 2.43887951e+05,\n",
      "       5.75645013e+02, 9.30622325e+01, 1.38506983e+05, 6.95690701e+03,\n",
      "       4.10740986e+05, 7.24599617e+04, 1.23117692e+07, 9.89368066e+06,\n",
      "       1.74257559e+07, 1.26169342e+07, 3.01712959e+07, 1.46763668e+07,\n",
      "       6.08545198e+06, 1.91413284e+06, 1.37908423e+07, 4.92849566e+06,\n",
      "       2.36870135e+07, 8.58814678e+06, 3.52314880e+06, 2.10424020e+06,\n",
      "       9.66004975e+06, 2.28360528e+06, 2.09808913e+07, 5.08905828e+06,\n",
      "       3.32994495e+05, 2.56520423e+05, 7.39238567e+05, 5.91888141e+05,\n",
      "       7.94386224e+05, 1.17143419e+06, 3.20667707e+03, 1.97384587e+03,\n",
      "       2.15693747e+04, 7.02815983e+03, 1.89647329e+05, 1.77363608e+04,\n",
      "       6.55964256e+00, 1.45730194e-01, 1.46279842e+04, 1.53650465e+03,\n",
      "       4.22343887e+04, 4.42589722e+03, 1.00572761e+06, 4.61262735e+05,\n",
      "       2.28957675e+06, 2.11333978e+06, 1.98739478e+06, 3.63991305e+06,\n",
      "       1.15349090e+04, 1.88714293e+04, 7.08434074e+04, 6.67772631e+04,\n",
      "       1.31643718e+06, 1.93733158e+05, 2.56495682e+02, 7.65422729e+01,\n",
      "       8.18832670e+04, 7.00478520e+03, 2.37645405e+05, 1.87597958e+05,\n",
      "       9.44810900e+06, 8.30467785e+06, 1.48575617e+07, 1.21813589e+07,\n",
      "       2.96281087e+07, 1.35011721e+07, 5.88752637e+06, 1.97793065e+06,\n",
      "       1.05119665e+07, 5.31043820e+06, 2.45922898e+07, 8.25558248e+06,\n",
      "       3.30725594e+06, 2.19958121e+06, 9.01029656e+06, 2.49249999e+06,\n",
      "       1.98827735e+07, 5.03068528e+06])}\n",
      "best params\n",
      "{'colsample_bytree': 0.4, 'learning_rate': 0.07, 'max_depth': 3, 'min_child_weight': 1.5, 'subsample': 0.6}\n",
      "best score\n",
      "-617876563.0986066\n"
     ]
    }
   ],
   "source": [
    "print (gsearch.cv_results_)\n",
    "print('best params')\n",
    "print (gsearch.best_params_)\n",
    "print('best score')\n",
    "print (gsearch.best_score_)"
   ]
  },
  {
   "cell_type": "markdown",
   "metadata": {},
   "source": [
    "The grid search found the best parameter values:  \n",
    "{'colsample_bytree': 0.4, 'learning_rate': 0.07, 'max_depth': 3, 'min_child_weight': 1.5, 'subsample': 0.6}"
   ]
  },
  {
   "cell_type": "code",
   "execution_count": 19,
   "metadata": {},
   "outputs": [
    {
     "data": {
      "text/plain": [
       "XGBRegressor(base_score=0.5, booster='gbtree', colsample_bylevel=1,\n",
       "       colsample_bytree=0.4, eval_metric='rmse', gamma=0,\n",
       "       learning_rate=0.07, max_delta_step=0, max_depth=3,\n",
       "       min_child_weight=1.5, missing=None, n_estimators=1000, n_jobs=1,\n",
       "       nthread=6, objective='reg:linear', random_state=0, reg_alpha=0,\n",
       "       reg_lambda=1, scale_pos_weight=1, seed=27, silent=True,\n",
       "       subsample=0.6)"
      ]
     },
     "execution_count": 19,
     "metadata": {},
     "output_type": "execute_result"
    }
   ],
   "source": [
    "xgb_model = xgboost.XGBRegressor(learning_rate =0.07, n_estimators=1000, max_depth=3,\n",
    "                                 min_child_weight=1.5, gamma=0, subsample=0.6, colsample_bytree=0.4, nthread=6, scale_pos_weight=1, seed=27,eval_metric='rmse')\n",
    "xgb_model.fit(X_train,y)"
   ]
  },
  {
   "cell_type": "code",
   "execution_count": 22,
   "metadata": {},
   "outputs": [],
   "source": [
    "y_pred_xgb = xgb_model.predict(X_test)"
   ]
  },
  {
   "cell_type": "code",
   "execution_count": 23,
   "metadata": {
    "scrolled": true
   },
   "outputs": [],
   "source": [
    "print_predictions(\"xgb_prediction.csv\",'Id,SalePrice\\n',ids,y_pred_xgb)"
   ]
  },
  {
   "cell_type": "markdown",
   "metadata": {},
   "source": [
    "This xgboost regression had a score of 0.13129, which is actually not an improvement over what I saw with stacking."
   ]
  },
  {
   "cell_type": "markdown",
   "metadata": {},
   "source": [
    "#### Question 7\n",
    " Do your best to get the more accurate model. Try feature engineering and stacking many models. You are allowed to use any public tool in python. No non-python tools allowed."
   ]
  },
  {
   "cell_type": "code",
   "execution_count": null,
   "metadata": {},
   "outputs": [],
   "source": []
  },
  {
   "cell_type": "markdown",
   "metadata": {},
   "source": [
    "# TODO: Finish the rest of problem 1"
   ]
  },
  {
   "cell_type": "markdown",
   "metadata": {},
   "source": [
    "### Problem 2: Starting with Neural Nets and Fast.ai.\n",
    "The goal of the next part of this problem set is to get us up and running with some modern tools\n",
    "for playing with Neural Networks. Specifically, we will be exploring a very powerful library built\n",
    "on top of PyTorch, called Fast.ai. This problem set and the next one will require access to a GPU.\n",
    "While Fast.ai is all open source and in principle you can download and install anywhere, doing this\n",
    "successfully may require considerable effort. Therefore, we highly recommend that you use a cloud\n",
    "computing service that already has Fast.ai set up. There are many options. We recommend either\n",
    "colab (free), or paperspace (not free, but not too expensive – I’ve been using a machine that\n",
    "costs $0.78/hour). There are other options as well."
   ]
  },
  {
   "cell_type": "markdown",
   "metadata": {},
   "source": [
    "### Question 1\n",
    "Paperspace. As an example... if you want to use Paperspace, then: create an account on\n",
    "paperspace or a cloud service of your choice. You should make sure that you are able to install\n",
    "all the libraries and tools needed for Fast.ai. If you choose to do this on paperspace.com,\n",
    "then:\n",
    "* Create an account on paperspace.\n",
    "* Log in.\n",
    "* Go to Gradient in the toolbar in the left.\n",
    "* Create Notebook.\n",
    "* Paperspace Fast.AI 1.0 (V3).\n",
    "* Choose the P5000 machine ($0.78/hour).\n",
    "* Launch, and go to: course-v3 −→ nbs −→ dl1 and open up the first lesson: lesson1-\n",
    "pets.ipynb."
   ]
  },
  {
   "cell_type": "markdown",
   "metadata": {},
   "source": [
    "#### Question 2\n",
    "Fast.ai has created a huge library of tools that make setting up and training a neural network\n",
    "very easy, especially through the use of transfer learning. The notebook you opened in the\n",
    "previous exercise corresponds to the first lesson under “Practical Deep Learning for Coders.”\n",
    "Watch this lesson, and follow along on the notebook."
   ]
  },
  {
   "cell_type": "markdown",
   "metadata": {},
   "source": [
    "### Question 3\n",
    "Make sure you understand the key elements of using Fast.ai, including understanding how to\n",
    "access the help documentation. Specifically:\n",
    "* Figure out: ImageDataBunch: this is the main data structure that is used.\n",
    "* Figure out: create cnn. This is the way you will create a “learner” that you will then\n",
    "train for some number of epochs. The key here is how easy it is to download a pre-set\n",
    "architecture (e.g., the notebook starts with resnet34, but has various others as well)."
   ]
  },
  {
   "cell_type": "markdown",
   "metadata": {},
   "source": [
    "### Question 4\n",
    "Explain what is a residual network, and the basic motivation for using it. Also\n",
    "explain what are the main elements of resnet34 and resnet50. How many layers, how many\n",
    "neurons total, how many weights; and then anything else you want to say."
   ]
  },
  {
   "cell_type": "markdown",
   "metadata": {},
   "source": [
    "### Question 5\n",
    "(Optional) Transfer learning using Fast.ai and create cnn: Please explain how pretrained\n",
    "resnet34 is modified to get the network that the notebook ultimately trains (i.e., explain\n",
    "what are the last layers that are added)."
   ]
  },
  {
   "cell_type": "markdown",
   "metadata": {},
   "source": [
    "# The rest of the notebook is done on Paperspace. I've submitted a different .ipynb file for it."
   ]
  }
 ],
 "metadata": {
  "kernelspec": {
   "display_name": "Python 3",
   "language": "python",
   "name": "python3"
  },
  "language_info": {
   "codemirror_mode": {
    "name": "ipython",
    "version": 3
   },
   "file_extension": ".py",
   "mimetype": "text/x-python",
   "name": "python",
   "nbconvert_exporter": "python",
   "pygments_lexer": "ipython3",
   "version": "3.6.3"
  }
 },
 "nbformat": 4,
 "nbformat_minor": 2
}
